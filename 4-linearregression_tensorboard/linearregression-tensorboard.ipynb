{
  "cells": [
    {
      "cell_type": "code",
      "source": [
        "import tensorflow as tf\n",
        "import pandas as pd\n",
        "import numpy as np\n",
        "import random\n",
        "import datetime"
      ],
      "outputs": [],
      "execution_count": null,
      "metadata": {}
    },
    {
      "cell_type": "markdown",
      "source": [
        "<img src=\"optimizer_graph.png\" width=\"200px\">"
      ],
      "metadata": {}
    },
    {
      "cell_type": "markdown",
      "source": [
        "## Reading Data\n",
        "\nData from https://archive.ics.uci.edu/ml/datasets/auto+mpg"
      ],
      "metadata": {}
    },
    {
      "cell_type": "code",
      "source": [
        "autompg = pd.read_csv('auto_mpg.csv')\n",
        "# Extract only the displacement and mpg column\n",
        "autompg_disp = autompg['displacement'].astype(float)\n",
        "autompg_mpg = autompg['mpg'].astype(float)\n",
        "\n",
        "# Scale data\n",
        "autompg_disp = autompg_disp.apply(lambda x:x/100)\n",
        "print(autompg_disp.describe())\n",
        "autompg_mpg = autompg_mpg.apply(lambda x: x/100)\n",
        "print(autompg_mpg.describe())"
      ],
      "outputs": [],
      "execution_count": null,
      "metadata": {}
    },
    {
      "cell_type": "code",
      "source": [
        "# Convert numpy data series to numpy array\n",
        "train_X = np.asarray(autompg_disp)\n",
        "train_Y = np.asarray(autompg_mpg)\n",
        "n_samples = train_X.shape[0]"
      ],
      "outputs": [],
      "execution_count": null,
      "metadata": {}
    },
    {
      "cell_type": "code",
      "source": [
        "# get batch of data\n",
        "def getbatch(xval, yval, arraylength, batchsize=30):\n",
        "    count = 0 \n",
        "    while count < arraylength/batchsize:\n",
        "        randstart = random.randint(0, arraylength-batchsize-1)\n",
        "        count += 1\n",
        "        yield (xval[randstart:randstart+batchsize], yval[randstart:randstart+batchsize])\n",
        "\n",
        "# Test\n",
        "#for i in getbatch(train_X, train_Y, n_samples):\n",
        "#    print(i)"
      ],
      "outputs": [],
      "execution_count": null,
      "metadata": {}
    },
    {
      "cell_type": "markdown",
      "source": [
        "## Setting hyper-parameters"
      ],
      "metadata": {}
    },
    {
      "cell_type": "code",
      "source": [
        "learning_rate = 0.003\n",
        "n_epochs = 3000\n",
        "display_step = 100"
      ],
      "outputs": [],
      "execution_count": null,
      "metadata": {}
    },
    {
      "cell_type": "markdown",
      "source": [
        "## Defining X and Y as placeholders"
      ],
      "metadata": {}
    },
    {
      "cell_type": "code",
      "source": [
        "# Define placeholders and variables\n",
        "X = tf.placeholder(tf.float32)\n",
        "Y = tf.placeholder(tf.float32)"
      ],
      "outputs": [],
      "execution_count": null,
      "metadata": {}
    },
    {
      "cell_type": "markdown",
      "source": [
        "## Initializing Weights and Biases"
      ],
      "metadata": {}
    },
    {
      "cell_type": "code",
      "source": [
        "W = tf.Variable(np.random.randn())\n",
        "b = tf.Variable(np.random.randn())"
      ],
      "outputs": [],
      "execution_count": null,
      "metadata": {}
    },
    {
      "cell_type": "markdown",
      "source": [
        "## Defining model\n",
        "\npredicted is X*W+b"
      ],
      "metadata": {}
    },
    {
      "cell_type": "code",
      "source": [
        "pred = tf.add(tf.multiply(X, W), b)"
      ],
      "outputs": [],
      "execution_count": null,
      "metadata": {}
    },
    {
      "cell_type": "markdown",
      "source": [
        "## Define cost and optimizer"
      ],
      "metadata": {}
    },
    {
      "cell_type": "code",
      "source": [
        "# The cost function is ((predicted-actual)^2)/2*n_samples. \n",
        "cost = tf.reduce_sum(tf.pow(pred-Y, 2))/(2*n_samples)\n",
        "\n",
        "optimizer = tf.train.GradientDescentOptimizer(learning_rate).minimize(cost)\n",
        "\n",
        "# Add all ops that need to be initialized\n",
        "# The initilization needs to be run only after session is created\n",
        "# as in session.run(init) below.\n",
        "init = tf.global_variables_initializer()"
      ],
      "outputs": [],
      "execution_count": null,
      "metadata": {}
    },
    {
      "cell_type": "code",
      "source": [
        "# This cell is new compared to the previous linear regression code\n",
        "# Summary writer and its configuration\n",
        "writer = tf.summary.FileWriter(\"./logs\", graph=tf.get_default_graph())\n",
        "tf.summary.scalar(\"Cost\", cost)\n",
        "merged_summary_op = tf.summary.merge_all()"
      ],
      "outputs": [],
      "execution_count": null,
      "metadata": {}
    },
    {
      "cell_type": "markdown",
      "source": [
        "## Running the session \n",
        "This will run the graph and use all the tensors that were previously defined"
      ],
      "metadata": {}
    },
    {
      "cell_type": "code",
      "source": [
        "with tf.Session() as sess:\n",
        "    sess.run(init)\n",
        "    for epoch in range(n_epochs):\n",
        "        for (x, y) in getbatch(train_X, train_Y, n_samples):\n",
        "            # In this line, we added write merged_summary that will write the cost to tensorboard\n",
        "            _, costval, merged_summary = sess.run([optimizer, cost, merged_summary_op], \n",
        "                                                  feed_dict={X: x, Y: y})\n",
        "        writer.add_summary(merged_summary, epoch)\n",
        "        # Every few display step, calculate and print cost\n",
        "        if (epoch+1) % display_step == 0:\n",
        "            c = sess.run(cost, feed_dict={X: train_X, Y:train_Y})\n",
        "            print(\"Epoch = {:04d} and cost = {:.9f}\".format(epoch+1, c))\n",
        "\n",
        "    # At the end of the training, print the cost and W and b\n",
        "    training_cost = sess.run(cost, feed_dict={X: train_X, Y: train_Y})\n",
        "    finalW = sess.run(W)\n",
        "    finalb = sess.run(b)\n",
        "    print(\"The final W = %0.4f and b = %0.4f\" %(finalW, finalb))\n",
        "    \n",
        "writer.close()"
      ],
      "outputs": [],
      "execution_count": null,
      "metadata": {}
    },
    {
      "cell_type": "markdown",
      "source": [
        "## Opening tensorboard\n",
        "\n",
        "In the command line, type \"tensorboard --logdir=./logs\"\n",
        "This will launch a local webserver at port 6006. Visit http://localhost:6006 in a browser. Then click on the label 'Cost' to see the graph.  You can make the graph larger by clicking on the rectangular button at the bottom left corner of the graph. You can zoom in to the graph by drawing a box around the region to zoom in. You can zoom out by double clicking the graph.\n",
        "\n",
        "NOTE 1: Please make sure that you ran this code to completion and that the log folder exist. \n",
        "\n",
        "NOTE 2: Make sure that you are in the directory that has the logs folder when you execute the tensorboard command. \n",
        "\nOn Windows, visiting http://localhost:6006 returns an error. Instead use the link provided by Tensorboard in the terminal. On the other hand, some people using Mac have experienced problem using the link provided by Tensorboard.  In such cases, use localhost:6006 instead. "
      ],
      "metadata": {}
    },
    {
      "cell_type": "code",
      "source": [],
      "outputs": [],
      "execution_count": null,
      "metadata": {}
    }
  ],
  "metadata": {
    "kernel_info": {
      "name": "python3"
    },
    "kernelspec": {
      "name": "python3",
      "language": "python",
      "display_name": "Python 3"
    },
    "language_info": {
      "name": "python",
      "version": "3.6.0",
      "mimetype": "text/x-python",
      "codemirror_mode": {
        "name": "ipython",
        "version": 3
      },
      "pygments_lexer": "ipython3",
      "nbconvert_exporter": "python",
      "file_extension": ".py"
    },
    "nteract": {
      "version": "0.8.4"
    },
    "widgets": {
      "state": {},
      "version": "1.1.2"
    }
  },
  "nbformat": 4,
  "nbformat_minor": 1
}
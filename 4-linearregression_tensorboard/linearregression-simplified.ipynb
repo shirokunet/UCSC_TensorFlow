{
  "cells": [
    {
      "cell_type": "code",
      "source": [
        "import tensorflow as tf\n",
        "import pandas as pd\n",
        "import numpy as np\n",
        "import random\n",
        "import datetime"
      ],
      "outputs": [],
      "execution_count": null,
      "metadata": {}
    },
    {
      "cell_type": "markdown",
      "source": [
        "## Reading Data"
      ],
      "metadata": {}
    },
    {
      "cell_type": "code",
      "source": [
        "# https://archive.ics.uci.edu/ml/datasets/auto+mpg\n",
        "autompg = pd.read_csv('auto_mpg.csv')\n",
        "autompg_disp = autompg['displacement'].astype(float)\n",
        "autompg_mpg = autompg['mpg'].astype(float)\n",
        "mean_disp = np.mean(autompg_disp)\n",
        "min_disp = np.min(autompg_disp)\n",
        "max_disp = np.max(autompg_disp)\n",
        "print(mean_disp, max_disp, min_disp, max_disp-min_disp)\n",
        "autompg_disp = autompg_disp.apply(lambda x:x/100)\n",
        "print(autompg_disp.describe())\n",
        "autompg_mpg = autompg_mpg.apply(lambda x: x/100)\n",
        "print(autompg_mpg.describe())"
      ],
      "outputs": [],
      "execution_count": null,
      "metadata": {}
    },
    {
      "cell_type": "code",
      "source": [
        "# A function to get a batch of data\n",
        "def getbatch(xval, yval, arraylength, batchsize=30):\n",
        "    count = 0 \n",
        "    while count < arraylength/batchsize:\n",
        "        randstart = random.randint(0, arraylength-batchsize-1)\n",
        "        count += 1\n",
        "        yield (xval[randstart:randstart+batchsize], yval[randstart:randstart+batchsize])\n",
        "\n",
        "# Test\n",
        "#for i in getbatch(train_X, train_Y, n_samples):\n",
        "#    print(i)"
      ],
      "outputs": [],
      "execution_count": null,
      "metadata": {}
    },
    {
      "cell_type": "markdown",
      "source": [
        "## Setting hyper-parameters"
      ],
      "metadata": {}
    },
    {
      "cell_type": "code",
      "source": [
        "learning_rate = 0.003\n",
        "n_epochs = 3000\n",
        "display_step = 100\n",
        "train_X = np.asarray(autompg_disp)\n",
        "train_Y = np.asarray(autompg_mpg)\n",
        "n_samples = train_X.shape[0]"
      ],
      "outputs": [],
      "execution_count": null,
      "metadata": {}
    },
    {
      "cell_type": "markdown",
      "source": [
        "## Defining X and Y as placeholders"
      ],
      "metadata": {
        "collapsed": false,
        "outputHidden": false,
        "inputHidden": false
      }
    },
    {
      "cell_type": "code",
      "source": [
        "X = tf.placeholder(tf.float32)\n",
        "Y = tf.placeholder(tf.float32)"
      ],
      "outputs": [],
      "execution_count": null,
      "metadata": {}
    },
    {
      "cell_type": "markdown",
      "source": [
        "## Initializing Weights and Biases"
      ],
      "metadata": {}
    },
    {
      "cell_type": "code",
      "source": [
        "W = tf.Variable(np.random.randn())\n",
        "b = tf.Variable(np.random.randn())"
      ],
      "outputs": [],
      "execution_count": null,
      "metadata": {
        "collapsed": false,
        "outputHidden": false,
        "inputHidden": false
      }
    },
    {
      "cell_type": "markdown",
      "source": [
        "## Defining model"
      ],
      "metadata": {}
    },
    {
      "cell_type": "code",
      "source": [
        "# predicted is X*W+b. \n",
        "pred = tf.add(tf.multiply(X, W), b)"
      ],
      "outputs": [],
      "execution_count": null,
      "metadata": {
        "collapsed": false,
        "outputHidden": false,
        "inputHidden": false
      }
    },
    {
      "cell_type": "markdown",
      "source": [
        "## Define cost, optimizer and accuracy"
      ],
      "metadata": {}
    },
    {
      "cell_type": "code",
      "source": [
        "# The cost function is ((predicted-actual)^2)/2*n_samples. \n",
        "cost = tf.reduce_sum(tf.pow(pred-Y, 2))/(2*n_samples)\n",
        "\n",
        "optimizer = tf.train.GradientDescentOptimizer(learning_rate).minimize(cost)\n",
        "\n",
        "# Add all ops that need to be initialized\n",
        "# The initilization needs to be run only after session is created\n",
        "# as in session.run(init) below.\n",
        "init = tf.global_variables_initializer()"
      ],
      "outputs": [],
      "execution_count": null,
      "metadata": {
        "collapsed": false,
        "outputHidden": false,
        "inputHidden": false
      }
    },
    {
      "cell_type": "markdown",
      "source": [
        "## Running the session \n",
        "This will run the graph and use all the tensors that were previously defined"
      ],
      "metadata": {}
    },
    {
      "cell_type": "code",
      "source": [
        "with tf.Session() as sess:\n",
        "    sess.run(init)\n",
        "    for epoch in range(n_epochs):\n",
        "        for (x, y) in getbatch(train_X, train_Y, n_samples):\n",
        "            sess.run(optimizer, feed_dict={X: x, Y: y})\n",
        "        if (epoch+1) % display_step == 0:\n",
        "            c = sess.run(cost, feed_dict={X: train_X, Y:train_Y})\n",
        "            print(\"Epoch = {:04d} and cost = {:.9f}\".format(epoch+1, c))\n",
        "\n",
        "    training_cost = sess.run(cost, feed_dict={X: train_X, Y: train_Y})\n",
        "    finalW = sess.run(W)\n",
        "    finalb = sess.run(b)\n",
        "    print(\"The final W = %0.4f and b = %0.4f\" %(finalW, finalb))"
      ],
      "outputs": [],
      "execution_count": null,
      "metadata": {}
    }
  ],
  "metadata": {
    "kernel_info": {
      "name": "python3"
    },
    "kernelspec": {
      "name": "python3",
      "language": "python",
      "display_name": "Python 3"
    },
    "language_info": {
      "name": "python",
      "version": "3.6.0",
      "mimetype": "text/x-python",
      "codemirror_mode": {
        "name": "ipython",
        "version": 3
      },
      "pygments_lexer": "ipython3",
      "nbconvert_exporter": "python",
      "file_extension": ".py"
    },
    "nteract": {
      "version": "0.8.4"
    },
    "widgets": {
      "state": {},
      "version": "1.1.2"
    }
  },
  "nbformat": 4,
  "nbformat_minor": 1
}
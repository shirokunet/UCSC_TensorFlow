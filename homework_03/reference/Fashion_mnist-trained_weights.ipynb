{
 "cells": [
  {
   "cell_type": "markdown",
   "metadata": {},
   "source": [
    "# Fashion MNIST Pre- trained weights"
   ]
  },
  {
   "cell_type": "code",
   "execution_count": 4,
   "metadata": {},
   "outputs": [],
   "source": [
    "import tensorflow as tf\n",
    "import numpy as np\n",
    "import matplotlib.pyplot as plt"
   ]
  },
  {
   "cell_type": "markdown",
   "metadata": {},
   "source": [
    "## Reading Data\n",
    "\n",
    "We are reading MNIST data from https://github.com/zalandoresearch/fashion-mnist)\n"
   ]
  },
  {
   "cell_type": "code",
   "execution_count": 5,
   "metadata": {},
   "outputs": [
    {
     "name": "stdout",
     "output_type": "stream",
     "text": [
      "Extracting data/fashion/train-images-idx3-ubyte.gz\n",
      "Extracting data/fashion/train-labels-idx1-ubyte.gz\n",
      "Extracting data/fashion/t10k-images-idx3-ubyte.gz\n",
      "Extracting data/fashion/t10k-labels-idx1-ubyte.gz\n"
     ]
    }
   ],
   "source": [
    "from tensorflow.examples.tutorials.mnist import input_data\n",
    "fashion_mnist = input_data.read_data_sets('data/fashion',one_hot=True)"
   ]
  },
  {
   "cell_type": "code",
   "execution_count": 6,
   "metadata": {},
   "outputs": [
    {
     "name": "stdout",
     "output_type": "stream",
     "text": [
      "55000\n",
      "10000\n"
     ]
    }
   ],
   "source": [
    "print(fashion_mnist.train.num_examples) # Number of training data\n",
    "print(fashion_mnist.test.num_examples) # Number of test data"
   ]
  },
  {
   "cell_type": "code",
   "execution_count": 7,
   "metadata": {},
   "outputs": [
    {
     "data": {
      "text/plain": [
       "<matplotlib.image.AxesImage at 0x1209bceb8>"
      ]
     },
     "execution_count": 7,
     "metadata": {},
     "output_type": "execute_result"
    },
    {
     "data": {
      "image/png": "[encoded data removed]",
      "text/plain": [
       "<matplotlib.figure.Figure at 0x11bfac9e8>"
      ]
     },
     "metadata": {},
     "output_type": "display_data"
    }
   ],
   "source": [
    "sample_1 = fashion_mnist.train.images[47].reshape(28,28)\n",
    "plt.imshow(sample_1)"
   ]
  },
  {
   "cell_type": "markdown",
   "metadata": {},
   "source": [
    "## Setting hyper-parameters"
   ]
  },
  {
   "cell_type": "code",
   "execution_count": 8,
   "metadata": {},
   "outputs": [],
   "source": [
    "# architecture hyper-parameter\n",
    "learning_rate = 0.01\n",
    "training_iters = 100000\n",
    "batch_size = 128\n",
    "display_step = 20\n",
    "\n",
    "n_input = 784 # 28x28 image\n",
    "n_classes = 10 # 1 for each digit [0-9]\n",
    "dropout = 0.75 "
   ]
  },
  {
   "cell_type": "markdown",
   "metadata": {},
   "source": [
    "## Defining model using conv2d, Relu and Maxpooling"
   ]
  },
  {
   "cell_type": "code",
   "execution_count": 9,
   "metadata": {},
   "outputs": [],
   "source": [
    "def conv2d(x, W, b, strides=1):\n",
    "    x = tf.nn.conv2d(x, W, strides=[1, strides, strides, 1], padding='SAME')\n",
    "    x = tf.nn.bias_add(x, b)\n",
    "    return tf.nn.relu(x)"
   ]
  },
  {
   "cell_type": "code",
   "execution_count": 10,
   "metadata": {},
   "outputs": [],
   "source": [
    "def maxpool2d(x, k=2):\n",
    "    return tf.nn.max_pool(x, ksize=[1, k, k, 1], strides=[1, k, k, 1], padding='SAME')"
   ]
  },
  {
   "cell_type": "code",
   "execution_count": 11,
   "metadata": {},
   "outputs": [],
   "source": [
    "def conv_net(x, weights, biases, dropout):\n",
    "    # reshape input to 28x28 size\n",
    "    x = tf.reshape(x, shape=[-1, 28, 28, 1])\n",
    "\n",
    "    # Convolution layer 1\n",
    "    conv1 = conv2d(x, weights['wc1'], biases['bc1'])\n",
    "    # Max pooling\n",
    "    conv1 = maxpool2d(conv1, k=2)\n",
    "\n",
    "    # Convolution layer 2\n",
    "    conv2 = conv2d(conv1, weights['wc2'], biases['bc2'])\n",
    "    # Max pooling\n",
    "    conv2 = maxpool2d(conv2, k=2)\n",
    "\n",
    "    # Fully connected layer\n",
    "    fc1 = tf.reshape(conv2, [-1, weights['wd1'].get_shape().as_list()[0]])\n",
    "    fc1 = tf.add(tf.matmul(fc1, weights['wd1']), biases['bd1'])\n",
    "    fc1 = tf.nn.relu(fc1)\n",
    "    fc1 = tf.nn.dropout(fc1, dropout)\n",
    "\n",
    "    out = tf.add(tf.matmul(fc1, weights['out']), biases['out'])\n",
    "    return out"
   ]
  },
  {
   "cell_type": "markdown",
   "metadata": {},
   "source": [
    "## Initializing Weights and Biases"
   ]
  },
  {
   "cell_type": "code",
   "execution_count": 12,
   "metadata": {},
   "outputs": [],
   "source": [
    "\n",
    "#writer = tf.summary.FileWriter(\"./logs/2.2\")\n",
    "\n",
    "\n",
    "#tf.reset_default_graph()\n",
    "\n",
    "\n",
    "\n",
    "#g=tf.get_default_graph()\n",
    "\n",
    "#v1 = tf.get_variable(\"v1\", [3], initializer = tf.zeros_initializer)\n",
    "\n",
    "#\n",
    "#with tf.name_scope('restored_weights') as scope:\n",
    "#biases = {\n",
    " #   'bc1': tf.Variable(tf.random_normal([32]),name='bc1'),\n",
    "  #  'bc2': tf.Variable(tf.random_normal([64]),name='bc2'),\n",
    "   # 'bd1': tf.Variable(tf.random_normal([1024]),name='bd1'),\n",
    "    #'out': tf.Variable(tf.random_normal([n_classes]),name='b4')\n",
    "# }\n",
    "\n",
    "#with tf.Session(graph=g) as sess1:\n",
    "            # Load model\n",
    "\n",
    "        #saver = tf.train.import_meta_graph('check/model.ckpt.meta')    #\n",
    "       # saver=tf.train.Saver(biases)\n",
    "        #sess1.run(tf.global_variables_initializer())\n",
    "\n",
    "       # saver.restore(sess1,\"check/model.ckpt\")\n",
    "\n",
    "      \n",
    "       # writer.add_graph(sess1.graph)\n",
    "\n",
    "        # print(biases) \n",
    "  \n",
    "\n"
   ]
  },
  {
   "cell_type": "code",
   "execution_count": 13,
   "metadata": {},
   "outputs": [
    {
     "name": "stdout",
     "output_type": "stream",
     "text": [
      "(?, 784) (?, 10)\n",
      "INFO:tensorflow:Restoring parameters from check/model.ckpt\n",
      "biases:\n",
      "{'out': array([ 1.8140063 , -1.3549004 , -0.6972118 , -0.03704418, -0.575428  ,\n",
      "        1.1613044 ,  1.2955763 , -0.4012211 , -0.35322228, -0.6027212 ],\n",
      "      dtype=float32), 'bc2': array([ 1.6188246e-01,  1.8329057e+00, -1.1416315e-01,  1.7724207e-01,\n",
      "       -8.3075011e-01, -2.6711437e-01,  3.8837942e-01, -3.9513558e-01,\n",
      "       -4.2339653e-01,  1.1462628e-01, -1.5952190e+00, -1.4591267e+00,\n",
      "       -1.8177141e-01, -3.2456908e-01,  7.4565566e-01, -4.3686548e-01,\n",
      "       -1.7489035e+00,  3.4718782e-01,  5.4944181e-01,  4.6394423e-01,\n",
      "       -6.9039494e-01,  4.9477255e-01, -4.4093597e-01, -1.7258165e+00,\n",
      "        6.5273494e-01,  1.9512705e-03, -9.0393674e-01, -9.3420136e-01,\n",
      "        9.0186530e-01,  1.7082271e-01,  2.4077423e-01, -1.1224726e+00,\n",
      "        8.2932150e-01, -4.0650907e-01, -1.5819722e+00, -5.6590515e-01,\n",
      "       -2.9995006e-01, -9.6639067e-01,  3.2130635e-01, -2.1968207e+00,\n",
      "        7.8072868e-02, -2.3994806e+00, -6.3948393e-02, -9.4757307e-01,\n",
      "        1.3052627e+00, -2.2414608e+00, -5.3807431e-01, -4.2880222e-01,\n",
      "        8.3397686e-01,  1.0051028e+00, -6.5659332e-01, -1.9358134e-01,\n",
      "        1.1750142e-01,  7.0618302e-01, -1.4441237e+00,  1.6948797e+00,\n",
      "       -7.8954512e-01, -8.5906017e-01,  1.1831188e+00,  3.5889620e-01,\n",
      "        1.1972443e+00,  5.5969292e-01, -1.9946194e+00,  1.9259745e-01],\n",
      "      dtype=float32), 'bd1': array([-0.5985217, -0.5619659, -0.5516432, ..., -0.4020257, -1.140926 ,\n",
      "        0.5758896], dtype=float32), 'bc1': array([-1.1027954 , -1.567285  ,  1.3777894 ,  0.05062915,  1.0295513 ,\n",
      "        0.93644416, -1.4085357 , -0.21604203,  0.5769824 , -2.8046684 ,\n",
      "        1.2673656 ,  0.03606503,  0.9648196 , -0.7284922 , -0.00806318,\n",
      "       -0.7814117 ,  0.06287194, -0.31141677,  0.8358811 , -0.4127526 ,\n",
      "       -0.42291468, -3.3701246 , -1.8836257 , -1.2196177 , -0.7296153 ,\n",
      "       -1.8206197 , -1.097017  ,  2.14674   ,  0.40917945, -0.9639401 ,\n",
      "        0.6521735 ,  0.92794955], dtype=float32)}\n"
     ]
    }
   ],
   "source": [
    "writer = tf.summary.FileWriter(\"./logs/2\")\n",
    "\n",
    "\n",
    "tf.reset_default_graph()\n",
    "\n",
    "x = tf.placeholder(tf.float32, [None, n_input])\n",
    "y = tf.placeholder(tf.float32, [None, n_classes])\n",
    "keep_prob = tf.placeholder(tf.float32)\n",
    "print(x.shape, y.shape)\n",
    "\n",
    "weights = {\n",
    "    'wc1': tf.Variable(tf.random_normal([5, 5, 1, 32]),name='wc1'),\n",
    "    'wc2': tf.Variable(tf.random_normal([5, 5, 32, 64]),name='wc2'),\n",
    "    'wd1': tf.Variable(tf.random_normal([7*7*64, 1024]),name=\"wd1\"),\n",
    "    'out': tf.Variable(tf.random_normal([1024, n_classes]),name=\"w4\")\n",
    "}\n",
    "\n",
    "biases = {\n",
    "    'bc1': tf.Variable(tf.random_normal([32]),name='bc1'),\n",
    "    'bc2': tf.Variable(tf.random_normal([64]),name='bc2'),\n",
    "    'bd1': tf.Variable(tf.random_normal([1024]),name='bd1'),\n",
    "    'out': tf.Variable(tf.random_normal([n_classes]),name='b4')\n",
    "}\n",
    "saver = tf.train.Saver()\n",
    "\n",
    "\n",
    "with tf.Session() as sess1:\n",
    "    # Load the weights and bias\n",
    "    saver.restore(sess1,\"check/model.ckpt\")\n",
    "    print('biases:')\n",
    "    print(sess1.run(biases))\n",
    "    writer.add_graph(sess1.graph)\n",
    "\n",
    "\n"
   ]
  },
  {
   "cell_type": "markdown",
   "metadata": {},
   "source": [
    "## Define cost, optimizer and accuracy"
   ]
  },
  {
   "cell_type": "code",
   "execution_count": 14,
   "metadata": {},
   "outputs": [],
   "source": [
    "# Create the model\n",
    "model = conv_net(x, weights, biases, keep_prob)\n",
    "\n",
    "\n",
    "# Define loss and optimizer\n",
    "cost = tf.reduce_mean(tf.nn.softmax_cross_entropy_with_logits(logits=model, labels=y))\n",
    "optimizer = tf.train.AdamOptimizer(learning_rate=learning_rate).minimize(cost)\n",
    "\n",
    "# Evaluate model\n",
    "correct_model = tf.equal(tf.argmax(model, 1), tf.argmax(y, 1))\n",
    "accuracy = tf.reduce_mean(tf.cast(correct_model, tf.float32))\n",
    "\n",
    "# Initializing the variables\n",
    "init = tf.global_variables_initializer()"
   ]
  },
  {
   "cell_type": "markdown",
   "metadata": {},
   "source": [
    "## Running the session \n",
    "This will run the graph and use all the tensors that were previously defined"
   ]
  },
  {
   "cell_type": "code",
   "execution_count": 18,
   "metadata": {},
   "outputs": [
    {
     "name": "stdout",
     "output_type": "stream",
     "text": [
      "Iter 2560, Loss= 2473.970, Training Accuracy= 0.656\n",
      "Iter 5120, Loss= 708.868, Training Accuracy= 0.711\n",
      "Iter 7680, Loss= 335.930, Training Accuracy= 0.805\n",
      "Iter 10240, Loss= 292.193, Training Accuracy= 0.812\n",
      "Iter 12800, Loss= 429.062, Training Accuracy= 0.773\n",
      "Iter 15360, Loss= 386.478, Training Accuracy= 0.781\n",
      "Iter 17920, Loss= 190.115, Training Accuracy= 0.812\n",
      "Iter 20480, Loss= 156.169, Training Accuracy= 0.836\n",
      "Iter 23040, Loss= 228.950, Training Accuracy= 0.766\n",
      "Iter 25600, Loss= 132.442, Training Accuracy= 0.812\n",
      "Iter 28160, Loss= 98.211, Training Accuracy= 0.844\n",
      "Iter 30720, Loss= 130.019, Training Accuracy= 0.766\n",
      "Iter 33280, Loss= 148.222, Training Accuracy= 0.750\n",
      "Iter 35840, Loss= 157.330, Training Accuracy= 0.789\n",
      "Iter 38400, Loss= 112.429, Training Accuracy= 0.820\n",
      "Iter 40960, Loss= 107.937, Training Accuracy= 0.789\n",
      "Iter 43520, Loss= 94.833, Training Accuracy= 0.789\n",
      "Iter 46080, Loss= 126.832, Training Accuracy= 0.719\n",
      "Iter 48640, Loss= 81.217, Training Accuracy= 0.766\n",
      "Iter 51200, Loss= 73.540, Training Accuracy= 0.766\n",
      "Iter 53760, Loss= 46.600, Training Accuracy= 0.812\n",
      "Iter 56320, Loss= 68.749, Training Accuracy= 0.758\n",
      "Iter 58880, Loss= 66.033, Training Accuracy= 0.703\n",
      "Iter 61440, Loss= 49.660, Training Accuracy= 0.688\n",
      "Iter 64000, Loss= 26.885, Training Accuracy= 0.805\n",
      "Iter 66560, Loss= 25.846, Training Accuracy= 0.781\n",
      "Iter 69120, Loss= 43.856, Training Accuracy= 0.711\n",
      "Iter 71680, Loss= 29.072, Training Accuracy= 0.750\n",
      "Iter 74240, Loss= 33.540, Training Accuracy= 0.719\n",
      "Iter 76800, Loss= 21.807, Training Accuracy= 0.789\n",
      "Iter 79360, Loss= 36.057, Training Accuracy= 0.742\n",
      "Iter 81920, Loss= 19.381, Training Accuracy= 0.805\n",
      "Iter 84480, Loss= 20.222, Training Accuracy= 0.695\n",
      "Iter 87040, Loss= 14.532, Training Accuracy= 0.742\n",
      "Iter 89600, Loss= 7.197, Training Accuracy= 0.781\n",
      "Iter 92160, Loss= 14.601, Training Accuracy= 0.711\n",
      "Iter 94720, Loss= 12.812, Training Accuracy= 0.562\n",
      "Iter 97280, Loss= 8.426, Training Accuracy= 0.633\n",
      "Iter 99840, Loss= 9.925, Training Accuracy= 0.633\n",
      "Testing Accuracy: 0.625\n"
     ]
    }
   ],
   "source": [
    "# Launch the graph\n",
    "with tf.Session() as sess:\n",
    "    sess.run(init)\n",
    "\n",
    "    step = 1\n",
    "    # Keep training until reach max iterations\n",
    "    while step * batch_size < training_iters:\n",
    "        batch_x, batch_y = fashion_mnist.train.next_batch(batch_size)   \n",
    "        #print(batch_x.shape, batch_y.shape)\n",
    "        sess.run(optimizer, feed_dict={x: batch_x, y: batch_y, keep_prob: dropout})\n",
    "        if step % display_step == 0:\n",
    "            loss, acc = sess.run([cost, accuracy], feed_dict={x: batch_x,\n",
    "                                                              y: batch_y,\n",
    "                                                              keep_prob: 1.})\n",
    "            print(\"Iter \" + str(step*batch_size) + \", Loss= \" + \\\n",
    "                  \"{:.3f}\".format(loss) + \", Training Accuracy= \" + \\\n",
    "                  \"{:.3f}\".format(acc))\n",
    "        step += 1\n",
    "    \n",
    "    # Calculate accuracy for 256 mnist test images\n",
    "    print(\"Testing Accuracy:\", \\\n",
    "        sess.run(accuracy, feed_dict={x: fashion_mnist.test.images[:256],\n",
    "                                      y: fashion_mnist.test.labels[:256],\n",
    "                                      keep_prob: 1.}))"
   ]
  },
  {
   "cell_type": "markdown",
   "metadata": {},
   "source": [
    "### The testing acccuracy has improved than the normal fashion_mnist after applying weights from the mnist data which yielded just 19.5% accuracy.The accuracy improved from 19.5% to 62.5 %."
   ]
  },
  {
   "cell_type": "code",
   "execution_count": null,
   "metadata": {},
   "outputs": [],
   "source": [
    "## Checking for the biases are same from checked point. "
   ]
  },
  {
   "cell_type": "code",
   "execution_count": 16,
   "metadata": {},
   "outputs": [
    {
     "name": "stdout",
     "output_type": "stream",
     "text": [
      "tensor_name:  b4\n",
      "[ 1.8140063  -1.3549004  -0.6972118  -0.03704418 -0.575428    1.1613044\n",
      "  1.2955763  -0.4012211  -0.35322228 -0.6027212 ]\n"
     ]
    }
   ],
   "source": [
    "from tensorflow.python.tools import inspect_checkpoint as chkp\n",
    "chkp.print_tensors_in_checkpoint_file(\"check/model.ckpt\",tensor_name='b4', all_tensors=False)\n"
   ]
  },
  {
   "cell_type": "code",
   "execution_count": null,
   "metadata": {},
   "outputs": [],
   "source": []
  },
  {
   "cell_type": "code",
   "execution_count": null,
   "metadata": {},
   "outputs": [],
   "source": []
  }
 ],
 "metadata": {
  "kernel_info": {
   "name": "python3"
  },
  "kernelspec": {
   "display_name": "Python 3",
   "language": "python",
   "name": "python3"
  },
  "language_info": {
   "codemirror_mode": {
    "name": "ipython",
    "version": 3
   },
   "file_extension": ".py",
   "mimetype": "text/x-python",
   "name": "python",
   "nbconvert_exporter": "python",
   "pygments_lexer": "ipython3",
   "version": "3.5.2"
  },
  "nteract": {
   "version": "0.7.1"
  },
  "widgets": {
   "state": {},
   "version": "1.1.2"
  }
 },
 "nbformat": 4,
 "nbformat_minor": 2
}

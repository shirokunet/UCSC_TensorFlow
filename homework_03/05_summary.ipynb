{
 "cells": [
  {
   "cell_type": "markdown",
   "metadata": {},
   "source": [
    "# 01_mnist.ipynb\n",
    "Trained LeNet with MNIST dataset and random initialization and stored the weights by using tf.train.Saver()."
   ]
  },
  {
   "cell_type": "markdown",
   "metadata": {},
   "source": [
    "<img src=\"./pictures/01_Screenshot from 2019-03-18 17-40-11.png\" width=\"910px\">"
   ]
  },
  {
   "cell_type": "markdown",
   "metadata": {},
   "source": [
    "# 02_mnist_using_pre-trained_model.ipynb\n",
    "Restored the saved weights and used them to train MNIST data set again."
   ]
  },
  {
   "cell_type": "markdown",
   "metadata": {},
   "source": [
    "<img src=\"./pictures/02_Screenshot from 2019-03-18 17-40-14.png\" width=\"910px\">"
   ]
  },
  {
   "cell_type": "markdown",
   "metadata": {},
   "source": [
    "# 03_fashion-mnist.ipynb\n",
    "Trained LeNet with Fashion MNIST dataset and random initialization."
   ]
  },
  {
   "cell_type": "markdown",
   "metadata": {},
   "source": [
    "<img src=\"./pictures/03_Screenshot from 2019-03-18 17-40-17.png\" width=\"910px\">"
   ]
  },
  {
   "cell_type": "markdown",
   "metadata": {},
   "source": [
    "# 04_fashionmnist_using_trained_mnist_model.ipynb\n",
    "Retrieved the saved weights and used them to train Fashion MNIST data set."
   ]
  },
  {
   "cell_type": "markdown",
   "metadata": {},
   "source": [
    "<img src=\"./pictures/04_Screenshot from 2019-03-18 17-40-20.png\" width=\"910px\">"
   ]
  },
  {
   "cell_type": "markdown",
   "metadata": {},
   "source": [
    "# Summary\n",
    "\n",
    "From the above result, when we used pre-trained weights same as for training model, we could get faster learning result than original (01_mnist.ipynb and 02_mnist_using_pre-trained_model.ipynb).\n",
    "\n",
    "On the other hand, when we used defferent pre-trained weights for training model, the result are almost same as not using the weights (03_fashion-mnist.ipynb and 04_fashionmnist_using_trained_mnist_model.ipynb).\n",
    "\n",
    "Generaly the transfer learning give good result. However we should care about using what kind of pre-trained model."
   ]
  },
  {
   "cell_type": "markdown",
   "metadata": {},
   "source": [
    "<img src=\"./pictures/All_step_Screenshot from 2019-03-18 17-39-40.png\" width=\"910px\">"
   ]
  },
  {
   "cell_type": "markdown",
   "metadata": {},
   "source": [
    "<img src=\"./pictures/All_wall_Screenshot from 2019-03-18 17-39-47.png\" width=\"910px\">"
   ]
  }
 ],
 "metadata": {
  "kernelspec": {
   "display_name": "Python 3",
   "language": "python",
   "name": "python3"
  },
  "language_info": {
   "codemirror_mode": {
    "name": "ipython",
    "version": 3
   },
   "file_extension": ".py",
   "mimetype": "text/x-python",
   "name": "python",
   "nbconvert_exporter": "python",
   "pygments_lexer": "ipython3",
   "version": "3.5.2"
  }
 },
 "nbformat": 4,
 "nbformat_minor": 2
}

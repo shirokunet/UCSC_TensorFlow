{
 "cells": [
  {
   "cell_type": "markdown",
   "metadata": {},
   "source": [
    "# Libray"
   ]
  },
  {
   "cell_type": "code",
   "execution_count": 1,
   "metadata": {},
   "outputs": [],
   "source": [
    "import numpy as np\n",
    "import matplotlib.pyplot as plt\n",
    "import pickle\n",
    "import tensorflow as tf\n",
    "import datetime\n",
    "import random\n",
    "import glob"
   ]
  },
  {
   "cell_type": "markdown",
   "metadata": {},
   "source": [
    "# Load Data\n",
    "Use the CIFAR data set reader from the first homework and read the CIFAR-10 files again. "
   ]
  },
  {
   "cell_type": "code",
   "execution_count": 2,
   "metadata": {},
   "outputs": [],
   "source": [
    "def unpickle(file):\n",
    "    with open(file, 'rb') as fo:\n",
    "        dict = pickle.load(fo, encoding='latin1')\n",
    "    return dict"
   ]
  },
  {
   "cell_type": "code",
   "execution_count": 3,
   "metadata": {},
   "outputs": [],
   "source": [
    "def load_cfar10_batch(path='../cifar-10-batches-py/data_batch_*'):\n",
    "    files = glob.glob(path)\n",
    "    features = np.concatenate([unpickle(x)['data'] for x in files])\n",
    "    labels = np.concatenate([unpickle(x)['labels'] for x in files])\n",
    "        \n",
    "    return features, labels"
   ]
  },
  {
   "cell_type": "code",
   "execution_count": 4,
   "metadata": {},
   "outputs": [],
   "source": [
    "features, labels = load_cfar10_batch()"
   ]
  },
  {
   "cell_type": "code",
   "execution_count": 5,
   "metadata": {},
   "outputs": [
    {
     "data": {
      "text/plain": [
       "<matplotlib.image.AxesImage at 0x7f5f795ecda0>"
      ]
     },
     "execution_count": 5,
     "metadata": {},
     "output_type": "execute_result"
    },
    {
     "data": {
      "image/png": "[encoded data removed]",
      "text/plain": [
       "<Figure size 432x288 with 1 Axes>"
      ]
     },
     "metadata": {
      "needs_background": "light"
     },
     "output_type": "display_data"
    }
   ],
   "source": [
    "img = features[30]\n",
    "img = img.reshape(3, 32, 32).transpose(1, 2, 0)\n",
    "\n",
    "plt.imshow(img)"
   ]
  },
  {
   "cell_type": "markdown",
   "metadata": {},
   "source": [
    "# Random Noise\n",
    "Apply random noise to the image"
   ]
  },
  {
   "cell_type": "code",
   "execution_count": 6,
   "metadata": {},
   "outputs": [],
   "source": [
    "def random_noise(image):\n",
    "    \"\"\"\n",
    "    Add random noise to image\n",
    "    \"\"\"\n",
    "    return np.asarray(np.clip(image + np.random.normal(0, 10, image.shape), 0, 255), dtype=np.uint8)\n",
    "\n",
    "features_random = random_noise(features)"
   ]
  },
  {
   "cell_type": "code",
   "execution_count": 7,
   "metadata": {},
   "outputs": [
    {
     "data": {
      "text/plain": [
       "<matplotlib.image.AxesImage at 0x7f5f795654a8>"
      ]
     },
     "execution_count": 7,
     "metadata": {},
     "output_type": "execute_result"
    },
    {
     "data": {
      "image/png": "[encoded data removed]",
      "text/plain": [
       "<Figure size 432x288 with 1 Axes>"
      ]
     },
     "metadata": {
      "needs_background": "light"
     },
     "output_type": "display_data"
    }
   ],
   "source": [
    "img = features_random[30]\n",
    "img = img.reshape(3, 32, 32).transpose(1, 2, 0)\n",
    "\n",
    "plt.imshow(img)"
   ]
  },
  {
   "cell_type": "markdown",
   "metadata": {},
   "source": [
    "# Normalization\n",
    "Convert the image to float and scale to [0.0, 1.0] by dividing the pixel values by the highest pixel value."
   ]
  },
  {
   "cell_type": "code",
   "execution_count": 8,
   "metadata": {},
   "outputs": [],
   "source": [
    "def normalize_images(images):\n",
    "#     images = images / 255\n",
    "    images = np.divide(images, 255)\n",
    "    return images\n",
    "\n",
    "features_random_z = normalize_images(features_random)"
   ]
  },
  {
   "cell_type": "code",
   "execution_count": 9,
   "metadata": {},
   "outputs": [
    {
     "data": {
      "text/plain": [
       "<matplotlib.image.AxesImage at 0x7f5f702ac908>"
      ]
     },
     "execution_count": 9,
     "metadata": {},
     "output_type": "execute_result"
    },
    {
     "data": {
      "image/png": "[encoded data removed]",
      "text/plain": [
       "<Figure size 432x288 with 1 Axes>"
      ]
     },
     "metadata": {
      "needs_background": "light"
     },
     "output_type": "display_data"
    }
   ],
   "source": [
    "img = features_random_z[30]\n",
    "img = img.reshape(3, 32, 32).transpose(1, 2, 0)\n",
    "\n",
    "plt.imshow(img)"
   ]
  },
  {
   "cell_type": "code",
   "execution_count": 10,
   "metadata": {},
   "outputs": [
    {
     "data": {
      "text/plain": [
       "255"
      ]
     },
     "execution_count": 10,
     "metadata": {},
     "output_type": "execute_result"
    }
   ],
   "source": [
    "features_random.max()"
   ]
  },
  {
   "cell_type": "code",
   "execution_count": 11,
   "metadata": {},
   "outputs": [
    {
     "data": {
      "text/plain": [
       "1.0"
      ]
     },
     "execution_count": 11,
     "metadata": {},
     "output_type": "execute_result"
    }
   ],
   "source": [
    "features_random_z.max()"
   ]
  },
  {
   "cell_type": "markdown",
   "metadata": {},
   "source": [
    "# Onehot\n",
    "Convert all labels to onehot encoding."
   ]
  },
  {
   "cell_type": "code",
   "execution_count": 12,
   "metadata": {},
   "outputs": [],
   "source": [
    "def toOneHot(data):\n",
    "    v = data\n",
    "    oneHot = np.zeros([50000,10])\n",
    "    oneHot[np.arange(50000), v] = 1\n",
    "    data = oneHot\n",
    "    return data"
   ]
  },
  {
   "cell_type": "code",
   "execution_count": 13,
   "metadata": {},
   "outputs": [],
   "source": [
    "labels_onehot = toOneHot(labels)"
   ]
  },
  {
   "cell_type": "code",
   "execution_count": 14,
   "metadata": {},
   "outputs": [
    {
     "data": {
      "text/plain": [
       "9"
      ]
     },
     "execution_count": 14,
     "metadata": {},
     "output_type": "execute_result"
    }
   ],
   "source": [
    "labels[30]"
   ]
  },
  {
   "cell_type": "code",
   "execution_count": 15,
   "metadata": {},
   "outputs": [
    {
     "data": {
      "text/plain": [
       "array([0., 0., 0., 0., 0., 0., 0., 0., 0., 1.])"
      ]
     },
     "execution_count": 15,
     "metadata": {},
     "output_type": "execute_result"
    }
   ],
   "source": [
    "labels_onehot[30]"
   ]
  },
  {
   "cell_type": "markdown",
   "metadata": {},
   "source": [
    "# Tensor Flow"
   ]
  },
  {
   "cell_type": "code",
   "execution_count": 16,
   "metadata": {},
   "outputs": [],
   "source": [
    "class TF_Cifar10:\n",
    "    def __init__(self, input_data, input_label, learning_rates=0.001):\n",
    "        # Hyper-parameters\n",
    "        nepochs = 50\n",
    "        batch_size = 128\n",
    "        #128,3072\n",
    "        nhidden1 = 512\n",
    "        nhidden2 = 256 \n",
    "        nhidden3 = 128 \n",
    "        ninput = input_data[0].flatten().shape[0]\n",
    "        noutput = 10\n",
    "\n",
    "        X = tf.placeholder(tf.float32, [batch_size, ninput])\n",
    "        Y = tf.placeholder(tf.float32, [batch_size, noutput])\n",
    "\n",
    "        weights = \\\n",
    "        {\n",
    "                'h1': tf.Variable(tf.random_normal([ninput, nhidden1])),\n",
    "                'h2': tf.Variable(tf.random_normal([nhidden1, nhidden2])),\n",
    "                'h3': tf.Variable(tf.random_normal([nhidden2, nhidden3])),\n",
    "                'out': tf.Variable(tf.random_normal([nhidden3, noutput]))\n",
    "        }\n",
    "\n",
    "        biases = \\\n",
    "        {\n",
    "            'b1': tf.Variable(tf.random_normal([nhidden1])),\n",
    "            'b2': tf.Variable(tf.random_normal([nhidden2])),\n",
    "            'b3': tf.Variable(tf.random_normal([nhidden3])),\n",
    "            'out': tf.Variable(tf.random_normal([noutput]))\n",
    "        }\n",
    "\n",
    "        model = self.multiperceptron(X, weights, biases)\n",
    "\n",
    "        loss = tf.reduce_mean(tf.nn.softmax_cross_entropy_with_logits_v2(logits=model, labels=Y))\n",
    "        optimizer = tf.train.AdamOptimizer(learning_rate=learning_rates)\n",
    "        train_min = optimizer.minimize(loss)\n",
    "\n",
    "        correct_prediction = tf.equal(tf.argmax(model, 1), tf.argmax(Y, 1))\n",
    "        accuracy = tf.reduce_mean(tf.cast(correct_prediction, tf.float32))\n",
    "        tf.summary.scalar(\"accuracy\", accuracy)\n",
    "\n",
    "        # Add to tensorboard summary\n",
    "        tf.summary.histogram(\"weight_1\",weights['h1'])\n",
    "        tf.summary.histogram(\"weight_2\",weights['h2'])\n",
    "        tf.summary.histogram(\"weight_3\",weights['h3'])\n",
    "        tf.summary.scalar(\"loss\", loss)\n",
    "\n",
    "        merged_summary_op = tf.summary.merge_all()\n",
    "        filename = datetime.datetime.now().strftime(\"%Y-%m-%d-%H-%M-%S_learning_rate\"+str(learning_rates))\n",
    "        writer = tf.summary.FileWriter(filename, tf.get_default_graph())\n",
    "        init = tf.global_variables_initializer()\n",
    "        \n",
    "        with tf.Session() as sess:\n",
    "            sess.run(init)\n",
    "\n",
    "            for epoch in range(nepochs):\n",
    "                for batch_x, batch_y in self.getbatch(input_data, input_label, batch_size):\n",
    "                    sess.run(train_min, feed_dict={X:batch_x, Y:batch_y})\n",
    "                losscalc, accuracycalc, merged_summary = \\\n",
    "                              sess.run([loss, accuracy, merged_summary_op], feed_dict={X:batch_x, Y:batch_y})\n",
    "                writer.add_summary(merged_summary, epoch) \n",
    "\n",
    "            print(\"Epoch: %d, Loss: %0.4f, Accuracy: %0.4f\"%(epoch, losscalc, accuracycalc))\n",
    "\n",
    "        writer.close()\n",
    "        sess.close()\n",
    "\n",
    "    def multiperceptron(self, x, weights, biases):\n",
    "        l1 = tf.nn.sigmoid(tf.add(tf.matmul(x, weights['h1']), biases['b1']))\n",
    "        l2 = tf.nn.sigmoid(tf.add(tf.matmul(l1, weights['h2']), biases['b2']))\n",
    "        l3 = tf.nn.sigmoid(tf.add(tf.matmul(l2, weights['h3']), biases['b3']))\n",
    "        outl = tf.nn.sigmoid(tf.add(tf.matmul(l3, weights['out']), biases['out']))\n",
    "        return outl\n",
    "\n",
    "    def getbatch(self, alldata, alllabels, batch_size = 16):\n",
    "        nlabels = len(alllabels)\n",
    "        number_of_batches = nlabels//batch_size # TODO: Change 100 to nlabels\n",
    "        for batch_number in range(number_of_batches):\n",
    "            rand_index = [random.randrange(0, nlabels) for i in range(batch_size)]\n",
    "            batch_x = alldata[rand_index]\n",
    "            batch_y = np.array([alllabels[idx] for idx in rand_index])\n",
    "            yield (batch_x, batch_y)"
   ]
  },
  {
   "cell_type": "code",
   "execution_count": 17,
   "metadata": {},
   "outputs": [
    {
     "name": "stdout",
     "output_type": "stream",
     "text": [
      "WARNING:tensorflow:From /usr/local/lib/python3.5/dist-packages/tensorflow/python/framework/op_def_library.py:263: colocate_with (from tensorflow.python.framework.ops) is deprecated and will be removed in a future version.\n",
      "Instructions for updating:\n",
      "Colocations handled automatically by placer.\n",
      "Epoch: 49, Loss: 1.9482, Accuracy: 0.3750\n"
     ]
    }
   ],
   "source": [
    "tf_cifar10_01 = TF_Cifar10(features_random_z, labels_onehot, learning_rates=0.001)"
   ]
  }
 ],
 "metadata": {
  "kernelspec": {
   "display_name": "Python 3",
   "language": "python",
   "name": "python3"
  },
  "language_info": {
   "codemirror_mode": {
    "name": "ipython",
    "version": 3
   },
   "file_extension": ".py",
   "mimetype": "text/x-python",
   "name": "python",
   "nbconvert_exporter": "python",
   "pygments_lexer": "ipython3",
   "version": "3.5.2"
  }
 },
 "nbformat": 4,
 "nbformat_minor": 2
}

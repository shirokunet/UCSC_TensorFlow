{
  "cells": [
    {
      "cell_type": "markdown",
      "source": [
        "1. Download the Python CIFAR-10 dataset from https://www.cs.toronto.edu/~kriz/cifar.html. This data set contains all the CIFAR-10 images stored as a series of pickle files. \n",
        "2. Use the code provided in the link to read the pickle file and extract the data and label. The data contains the images and the labels in the range 0-9. The link explains the relationship between label and the objects in the image.\n",
        "3. Append all the data and label together.\n",
        "4. Visualize the distribution of labels by plotting a histogram. Explain what you observe?\n",
        "5. Write a generator function getbatch() that will return a batch of x and y as a tuple. The function must have the signature getbatch(alldata, alllabels, batch_size = 16). It must yield a tuple with a numpy array of x (the images) and a numpy array of y (the label). The size of each element in x must be [batchsize, noofchannels, width, height]"
      ],
      "metadata": {}
    },
    {
      "cell_type": "code",
      "source": [
        "import glob\n",
        "import os\n",
        "import matplotlib.pyplot as plt\n",
        "import numpy as np\n",
        "import operator\n",
        "import functools\n",
        "import random"
      ],
      "outputs": [],
      "execution_count": 1,
      "metadata": {}
    },
    {
      "cell_type": "code",
      "source": [
        "def unpickle(file):\n",
        "    import pickle\n",
        "    with open(file, 'rb') as fo:\n",
        "        dict = pickle.load(fo, encoding='bytes')\n",
        "    return dict"
      ],
      "outputs": [],
      "execution_count": 2,
      "metadata": {}
    },
    {
      "cell_type": "code",
      "source": [
        "noofepochs = 128\n",
        "batch_size = 16\n",
        "number_images_batch = 10000\n",
        "image_shape = (32, 32, 3,)\n",
        "image_size = functools.reduce(operator.mul, image_shape)\n",
        "print(image_size)"
      ],
      "outputs": [
        {
          "output_type": "stream",
          "name": "stdout",
          "text": [
            "3072\n"
          ]
        }
      ],
      "execution_count": 3,
      "metadata": {}
    },
    {
      "cell_type": "code",
      "source": [
        "alldata = np.zeros((5*number_images_batch, image_size), dtype=np.int)\n",
        "alllabels = []\n",
        "begin = 0\n",
        "end = number_images_batch\n",
        "for filename in glob.glob(os.path.join(\"cifar-10-batches-py\", \"data_batch*\")):\n",
        "    print(filename)\n",
        "    d1 = unpickle(filename)\n",
        "    labels = d1[b'labels']\n",
        "    data = d1[b'data']\n",
        "    print(data.shape)\n",
        "    alldata[begin:end,:] = data\n",
        "    alllabels.extend(labels)\n",
        "    begin = end\n",
        "    end = end+number_images_batch\n",
        "alldata = alldata.reshape([-1, 3, 32, 32]).astype(np.uint8)\n",
        "print(alldata.shape)\n",
        "print(len(alllabels))"
      ],
      "outputs": [
        {
          "output_type": "stream",
          "name": "stdout",
          "text": [
            "cifar-10-batches-py/data_batch_1\n",
            "(10000, 3072)\n",
            "cifar-10-batches-py/data_batch_2\n",
            "(10000, 3072)\n",
            "cifar-10-batches-py/data_batch_5\n",
            "(10000, 3072)\n",
            "cifar-10-batches-py/data_batch_4\n",
            "(10000, 3072)\n",
            "cifar-10-batches-py/data_batch_3\n",
            "(10000, 3072)\n",
            "(50000, 3, 32, 32)\n",
            "50000\n"
          ]
        }
      ],
      "execution_count": 4,
      "metadata": {}
    },
    {
      "cell_type": "code",
      "source": [
        "plt.hist(alllabels, histtype='step')\n",
        "plt.show()\n",
        "\n",
        "# Print the histogram numbers\n",
        "histval = np.histogram(alllabels, bins=10)\n",
        "print(histval)"
      ],
      "outputs": [
        {
          "output_type": "display_data",
          "data": {
            "image/png": "[encoded data removed]",
            "text/plain": [
              "<matplotlib.figure.Figure at 0x110ac7710>"
            ]
          },
          "metadata": {}
        },
        {
          "output_type": "stream",
          "name": "stdout",
          "text": [
            "(array([5000, 5000, 5000, 5000, 5000, 5000, 5000, 5000, 5000, 5000]), array([0. , 0.9, 1.8, 2.7, 3.6, 4.5, 5.4, 6.3, 7.2, 8.1, 9. ]))\n"
          ]
        }
      ],
      "execution_count": 7,
      "metadata": {}
    },
    {
      "cell_type": "code",
      "source": [
        "oneimage = alldata[3000].transpose(1, 2, 0)\n",
        "print(oneimage.shape)\n",
        "plt.imshow(oneimage)"
      ],
      "outputs": [
        {
          "output_type": "stream",
          "name": "stdout",
          "text": [
            "(32, 32, 3)\n"
          ]
        },
        {
          "output_type": "execute_result",
          "execution_count": 11,
          "data": {
            "text/plain": [
              "<matplotlib.image.AxesImage at 0x110da3550>"
            ]
          },
          "metadata": {}
        },
        {
          "output_type": "display_data",
          "data": {
            "image/png": "[encoded data removed]",
            "text/plain": [
              "<matplotlib.figure.Figure at 0x110eb70b8>"
            ]
          },
          "metadata": {}
        }
      ],
      "execution_count": 11,
      "metadata": {}
    },
    {
      "cell_type": "code",
      "source": [
        "def getbatch(alldata, alllabels, batch_size = 16):\n",
        "    nlabels = len(alllabels)\n",
        "    number_of_batches = 100//batch_size # TODO: Change 100 to nlabels\n",
        "    for batch_number in range(number_of_batches):\n",
        "        rand_index = [random.randrange(0, nlabels) for i in range(batch_size)]\n",
        "        batch_x = alldata[rand_index]\n",
        "        batch_y = np.array([alllabels[idx] for idx in rand_index])\n",
        "        yield (batch_x, batch_y)\n",
        "    \n",
        "for x, y in getbatch(alldata, alllabels, batch_size = batch_size):\n",
        "    print(x.shape, y.shape)\n",
        "    print(y)\n",
        "    plt.imshow(x[0].transpose(1, 2, 0))\n",
        "    \n",
        "plt.show()"
      ],
      "outputs": [
        {
          "output_type": "stream",
          "name": "stdout",
          "text": [
            "(16, 3, 32, 32) (16,)\n",
            "[9 8 9 0 3 6 3 7 6 9 6 4 8 6 2 8]\n",
            "(16, 3, 32, 32) (16,)\n",
            "[8 3 7 4 5 0 4 3 1 6 8 3 8 5 7 3]\n",
            "(16, 3, 32, 32) (16,)\n",
            "[3 4 3 7 2 2 6 8 2 5 8 3 4 7 2 1]\n",
            "(16, 3, 32, 32) (16,)\n",
            "[2 6 9 5 1 7 5 3 7 4 4 4 7 7 1 2]\n",
            "(16, 3, 32, 32) (16,)\n",
            "[2 0 5 2 7 6 6 3 6 4 1 3 3 2 6 2]\n",
            "(16, 3, 32, 32) (16,)\n",
            "[7 9 2 1 1 9 1 6 3 8 1 8 9 0 0 0]\n"
          ]
        },
        {
          "output_type": "display_data",
          "data": {
            "image/png": "[encoded data removed]",
            "text/plain": [
              "<matplotlib.figure.Figure at 0x110daeb38>"
            ]
          },
          "metadata": {}
        }
      ],
      "execution_count": 13,
      "metadata": {}
    },
    {
      "cell_type": "code",
      "source": [],
      "outputs": [],
      "execution_count": null,
      "metadata": {}
    },
    {
      "cell_type": "code",
      "source": [],
      "outputs": [],
      "execution_count": null,
      "metadata": {}
    }
  ],
  "metadata": {
    "kernelspec": {
      "name": "python3",
      "language": "python",
      "display_name": "Python 3"
    },
    "language_info": {
      "name": "python",
      "version": "3.6.0",
      "mimetype": "text/x-python",
      "codemirror_mode": {
        "name": "ipython",
        "version": 3
      },
      "pygments_lexer": "ipython3",
      "nbconvert_exporter": "python",
      "file_extension": ".py"
    },
    "widgets": {
      "state": {},
      "version": "1.1.2"
    },
    "kernel_info": {
      "name": "python3"
    },
    "nteract": {
      "version": "0.7.1"
    }
  },
  "nbformat": 4,
  "nbformat_minor": 2
}
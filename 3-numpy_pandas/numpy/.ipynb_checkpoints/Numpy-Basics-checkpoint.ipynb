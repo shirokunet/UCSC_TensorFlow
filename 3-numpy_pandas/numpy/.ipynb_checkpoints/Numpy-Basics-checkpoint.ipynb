{
 "cells": [
  {
   "cell_type": "code",
   "execution_count": null,
   "metadata": {},
   "outputs": [],
   "source": [
    "# http://people.duke.edu/~ccc14/pcfb/numpympl/NumpyBasics.html\n",
    "# https://docs.scipy.org/doc/numpy-dev/user/quickstart.html\n",
    "# http://www.engr.ucsb.edu/~shell/che210d/numpy.pdf\n",
    "# http://www.labri.fr/perso/nrougier/teaching/numpy/numpy.html\n",
    "# http://www.labri.fr/perso/nrougier/teaching/numpy.100/\n",
    "\n",
    "# NUMPY TO MATLAB - https://docs.scipy.org/doc/numpy-dev/user/numpy-for-matlab-users.html"
   ]
  },
  {
   "cell_type": "code",
   "execution_count": null,
   "metadata": {},
   "outputs": [],
   "source": [
    "import numpy as np"
   ]
  },
  {
   "cell_type": "markdown",
   "metadata": {},
   "source": [
    "## NDARRAY\n",
    "An ndaray is a n-dimensional array where all items are of the same type (unlike a Python data structure) and consequently use the same amount of space. There are 21 different types of objects (also called dtypes) that can be stored in ndarray. They are\n",
    "* bool_ \n",
    "* byte\n",
    "* short\n",
    "* intc\n",
    "* int_\n",
    "* longlong\n",
    "* intp\n",
    "* ubyte\n",
    "* ushort\n",
    "* uintc\n",
    "* uint\n",
    "* ulonglong\n",
    "* uintp\n",
    "* single\n",
    "* float_\n",
    "* longfloat\n",
    "* csingl\n",
    "* complex_\n",
    "* clongfloat\n",
    "* object_\n",
    "* str_\n",
    "* unicode_\n",
    "* void\n",
    "\n",
    "For some of the dtypes, a _ to differentiate that dtype from the corresponding Python type. Such types are also called as 'enhanced scalars).  They have the same precision as the Python type.\n",
    "\n",
    "All the types except the str_, unicode_ and void are of fixed size. "
   ]
  },
  {
   "cell_type": "code",
   "execution_count": null,
   "metadata": {},
   "outputs": [],
   "source": [
    "# Creating a simple ndarray\n",
    "a = np.arange(8) # similar to range(8)\n",
    "print(a, type(a))"
   ]
  },
  {
   "cell_type": "code",
   "execution_count": null,
   "metadata": {},
   "outputs": [],
   "source": [
    "# Indexing\n",
    "print(a[3], type(a[3])) # since there is only one value, its type is the type of each element\n",
    "print(a[2:5], type(a[2:5])) # The slicing results in an ndarray"
   ]
  },
  {
   "cell_type": "code",
   "execution_count": null,
   "metadata": {},
   "outputs": [],
   "source": [
    "# Universal functions or ufunc\n",
    "# They perform element by element operation on an ndarray.\n",
    "b = np.sin(a)\n",
    "print(b)\n",
    "\n",
    "c = np.add(a, b)\n",
    "print(c)\n",
    "\n",
    "# For a full list of ufunc, visit \n",
    "# http://docs.scipy.org/doc/numpy/reference/ufuncs.html"
   ]
  },
  {
   "cell_type": "code",
   "execution_count": null,
   "metadata": {},
   "outputs": [],
   "source": [
    "# In the case of add function, a and b both had same sized vector.\n",
    "# What happens if they are of different sizes as in the example below\n",
    "d = np.add(a, 3)\n",
    "print(d)\n",
    "\n",
    "# The meaning of adding a which is a vector to a scalar 3 is done by \n",
    "# adding each element in a with the value 3. In otherwords, the value 3\n",
    "# was 'broadcast' to each element in a and added."
   ]
  },
  {
   "cell_type": "code",
   "execution_count": null,
   "metadata": {},
   "outputs": [],
   "source": [
    "# NDARRAY attributes\n",
    "\n",
    "print(\"Shape is: \", b.shape) # Size of the matrix\n",
    "print(\"Number of dimensions are: \", b.ndim) # Number of dimensions\n",
    "print(\"Data type: \", b.dtype) # Data type of each element\n",
    "print(\"Itemsize: \", b.itemsize) # Memory occupied by each element\n",
    "print(\"type: \", type(b))  # Type of b\n",
    "print(\"dir: \", dir(b.dtype))"
   ]
  },
  {
   "cell_type": "markdown",
   "metadata": {},
   "source": [
    "### ARRAY CONVERSION"
   ]
  },
  {
   "cell_type": "code",
   "execution_count": null,
   "metadata": {},
   "outputs": [],
   "source": [
    "print(b.tolist()) # convert ndarray b to list"
   ]
  },
  {
   "cell_type": "code",
   "execution_count": null,
   "metadata": {},
   "outputs": [],
   "source": [
    "# Write the vector b to a csv file with 3 precision\n",
    "b.tofile(file=\"data.csv\", sep=\",\", format=\"%0.3f\")"
   ]
  },
  {
   "cell_type": "code",
   "execution_count": null,
   "metadata": {},
   "outputs": [],
   "source": [
    "b.dump('data.pickle') # Write to pickle file"
   ]
  },
  {
   "cell_type": "markdown",
   "metadata": {},
   "source": [
    "### ARRAY SHAPE "
   ]
  },
  {
   "cell_type": "code",
   "execution_count": null,
   "metadata": {},
   "outputs": [],
   "source": [
    "a = np.arange(8)\n",
    "b = a.reshape((2, 4), order='C') # Change the matrix to size 2x4\n",
    "print(b)"
   ]
  },
  {
   "cell_type": "code",
   "execution_count": null,
   "metadata": {},
   "outputs": [],
   "source": [
    "c = a.resize((4, 2))\n",
    "print(c) # None as resize modifies inplace while reshape creates a new array\n",
    "print(a)"
   ]
  },
  {
   "cell_type": "code",
   "execution_count": null,
   "metadata": {},
   "outputs": [],
   "source": [
    "a = np.arange(8).reshape((2, 4), order='C' )\n",
    "flat_a = a.flatten()\n",
    "print(flat_a) # Convert to 1D vector\n",
    "flat_a[0]= 6\n",
    "print(flat_a)\n",
    "print(a) \n",
    "# Since flat_a is a new copy, any change to flat_a does not affect a"
   ]
  },
  {
   "cell_type": "code",
   "execution_count": null,
   "metadata": {},
   "outputs": [],
   "source": [
    "a = np.arange(8).reshape((2, 4), order='C' )\n",
    "ravel_a = a.ravel() # Convert to 1D vector\n",
    "print(ravel_a)\n",
    "ravel_a[0]= 6\n",
    "print(ravel_a)\n",
    "print(a)\n",
    "# Since ravel_a is NOT a copy, any change to ravel_a affects a"
   ]
  },
  {
   "cell_type": "code",
   "execution_count": null,
   "metadata": {},
   "outputs": [],
   "source": [
    "# Shallow copy\n",
    "d = a\n",
    "a[0][0] = 4\n",
    "print(a)\n",
    "print(d) # Note d and a will have same values even though we modified only a"
   ]
  },
  {
   "cell_type": "code",
   "execution_count": null,
   "metadata": {},
   "outputs": [],
   "source": [
    "# Deep copy\n",
    "d = a.copy()\n",
    "a[0][0] = 3\n",
    "print(a)\n",
    "print(d) # Note d and a will have different values"
   ]
  },
  {
   "cell_type": "code",
   "execution_count": null,
   "metadata": {},
   "outputs": [],
   "source": [
    "# INCLASS ACTIVITY\n",
    "'''\n",
    "A power ball needs a list of 6 numbers. The first 5 numbers have value between 1 and 59.\n",
    "The last number also called power ball number will be between 1 and 35. \n",
    "Write a Python program to create this list with 6 numbers. Modify the code\n",
    "so that it is seeded by the current date. \n",
    "'''\n"
   ]
  },
  {
   "cell_type": "markdown",
   "metadata": {},
   "source": [
    "## ARRAY MANIPULATION"
   ]
  },
  {
   "cell_type": "code",
   "execution_count": null,
   "metadata": {},
   "outputs": [],
   "source": [
    "import numpy as np\n",
    "a = np.random.rand(2, 4)\n",
    "print(a)\n",
    "a.sort() # sort(axis=-1, kind=’quick’, order=None)\n",
    "print(a)"
   ]
  },
  {
   "cell_type": "code",
   "execution_count": null,
   "metadata": {},
   "outputs": [],
   "source": [
    "a = np.random.rand(2, 4)*2\n",
    "a = a.astype(np.int)\n",
    "print(a, a.dtype)\n",
    "print(a.nonzero())"
   ]
  },
  {
   "cell_type": "markdown",
   "metadata": {},
   "source": [
    "### ARRAY CALCULATIONS"
   ]
  },
  {
   "cell_type": "code",
   "execution_count": null,
   "metadata": {},
   "outputs": [],
   "source": [
    "import numpy as np\n",
    "a = np.random.rand(2, 2)*5\n",
    "b = a.astype('int')\n",
    "print(b)\n",
    "print('Any element is {0}'.format(b.any()))\n",
    "print('Sum of all elements is {0}'.format(b.sum()))\n",
    "print('The product of all element is {0}'.format(b.prod()))\n",
    "print('The max of all element is {0}'.format(b.max()))"
   ]
  },
  {
   "cell_type": "markdown",
   "metadata": {},
   "source": [
    "### ARRAY INDEXING"
   ]
  },
  {
   "cell_type": "code",
   "execution_count": null,
   "metadata": {},
   "outputs": [],
   "source": [
    "# Basic slicing\n",
    "import numpy as np\n",
    "a = np.random.rand(10, 10)*5\n",
    "b = a.astype('int')\n",
    "print(b)\n",
    "print('The rows=1 and cols=2 element is {0}'.format(b[1,2])) \n",
    "print('The first col is {0}'.format(b[:,0])) # rows, cols. all rows for cols=0\n",
    "print('The third row is {0}'.format(b[2, :])) # all cols for rows = 2"
   ]
  },
  {
   "cell_type": "markdown",
   "metadata": {
    "collapsed": true
   },
   "source": [
    "### ROUTINES"
   ]
  },
  {
   "cell_type": "code",
   "execution_count": null,
   "metadata": {},
   "outputs": [],
   "source": [
    "# array(object=, dtype=None, copy=True, order=None, subok=False, ndmin=0)\n",
    "# Convert any object to a ndarray. If copy is set to True, then a new copy is made.\n",
    "# Convert a Python list or tuple to numpy array\n",
    "import numpy as np\n",
    "\n",
    "c = np.array((4, 5, 6), dtype=np.float32) # Change this to int and see the output\n",
    "print(c, type(c), c.dtype)\n",
    "\n",
    "# There is another method called 'asarray' which is same as 'array' except\n",
    "# that the copy defaults to False."
   ]
  },
  {
   "cell_type": "code",
   "execution_count": null,
   "metadata": {},
   "outputs": [],
   "source": [
    "# Will create a linear list of values starting from 'start' and ends at 'stop-1'\n",
    "# in steps of 'step'\n",
    "d = np.arange(start=10, stop=20, step=2, dtype=np.float32)\n",
    "print(d)"
   ]
  },
  {
   "cell_type": "code",
   "execution_count": null,
   "metadata": {},
   "outputs": [],
   "source": [
    "d = np.zeros(shape=(3, 4), dtype=np.int64)\n",
    "print(d)\n",
    "print(d.itemsize, d.dtype)"
   ]
  },
  {
   "cell_type": "code",
   "execution_count": null,
   "metadata": {},
   "outputs": [],
   "source": [
    "e = np.ones(shape=(3, 3), dtype=np.int32)\n",
    "print(e)"
   ]
  },
  {
   "cell_type": "code",
   "execution_count": null,
   "metadata": {},
   "outputs": [],
   "source": [
    "f = np.identity(n=3, dtype=np.int32)\n",
    "print(f)"
   ]
  },
  {
   "cell_type": "code",
   "execution_count": null,
   "metadata": {},
   "outputs": [],
   "source": [
    "g = np.random.rand(3, 3)*5\n",
    "print(g)\n",
    "print(np.where(g)) # Returns the x, y coordinates"
   ]
  },
  {
   "cell_type": "code",
   "execution_count": null,
   "metadata": {},
   "outputs": [],
   "source": [
    "m = np.random.rand(100, 100)*100\n",
    "m = m.astype('int')\n",
    "print('The histogram is {0}'.format(np.histogram(m)))\n",
    "# The first array is the frequency and the second array is the bin"
   ]
  },
  {
   "cell_type": "code",
   "execution_count": null,
   "metadata": {},
   "outputs": [],
   "source": [
    "# Create 10 numbers between 1 and 20\n",
    "p = np.linspace(start = 1, stop = 20, num=10)\n",
    "print('The linear space of value is {0}'.format(p))\n",
    "\n",
    "p = np.logspace(start = 0.1, stop = 0.20, num=10)\n",
    "print('The log space of value is {0}'.format(p))"
   ]
  },
  {
   "cell_type": "markdown",
   "metadata": {},
   "source": [
    "### OPERATIONS"
   ]
  },
  {
   "cell_type": "code",
   "execution_count": null,
   "metadata": {},
   "outputs": [],
   "source": [
    "import numpy as np\n",
    "\n",
    "c = np.array((4, 5, 6), dtype=np.float32)\n",
    "d = np.linspace(start=10, stop=13, num=3)\n",
    "print(c)\n",
    "print(d)\n",
    "f = d-c # Subtract matrix\n",
    "print(f, f.dtype)"
   ]
  },
  {
   "cell_type": "code",
   "execution_count": null,
   "metadata": {},
   "outputs": [],
   "source": [
    "f = 10*c \n",
    "# Multiply a matrix with scalar. The matrix e is of dtype=int64 but the final matrix is of dtype=float64\n",
    "print(f, f.dtype)"
   ]
  },
  {
   "cell_type": "code",
   "execution_count": null,
   "metadata": {},
   "outputs": [],
   "source": [
    "h = f > 50 # Compare every element with the value of 0.5\n",
    "print(h)"
   ]
  },
  {
   "cell_type": "code",
   "execution_count": null,
   "metadata": {},
   "outputs": [],
   "source": [
    "# Indexing with boolean arrays\n",
    "k = f > 50\n",
    "print(k)\n",
    "print(f[k]) # Returns values in p that are True in t\n",
    "print(f[f>50]) # This is same as the previous line except that we are not creating a new array t"
   ]
  },
  {
   "cell_type": "markdown",
   "metadata": {},
   "source": [
    "#### Calculate value of pi using Gregory-Leibniz series\n",
    "$$ 1\\,-\\,{\\frac {1}{3}}\\,+\\,{\\frac {1}{5}}\\,-\\,{\\frac {1}{7}}\\,+\\,{\\frac {1}{9}}\\,-\\,\\cdots \\;=\\;{\\frac {\\pi }{4}}.\\! $$"
   ]
  },
  {
   "cell_type": "code",
   "execution_count": null,
   "metadata": {},
   "outputs": [],
   "source": [
    "noofterms = 100000\n",
    "\n",
    "# Create numerator array\n",
    "numerator = np.ones(shape=(1, noofterms))\n",
    "# Change alternate values from +1 to -1\n",
    "numerator[0, 1::2] = -1\n",
    "print(\"numerator is: {0} \".format(numerator))\n",
    "# Denominator = 1, 3, 5, 7 ...\n",
    "\n",
    "# Sum all terms and multiply by 4\n",
    "denominator = np.linspace(1, noofterms*2-1, noofterms)\n",
    "print('denominator is: ', denominator)\n",
    "pival = 4.0*np.sum(numerator/denominator)\n",
    "print('The value of pi is {0}'.format(pival))"
   ]
  },
  {
   "cell_type": "code",
   "execution_count": null,
   "metadata": {},
   "outputs": [],
   "source": []
  }
 ],
 "metadata": {
  "kernel_info": {
   "name": "python3"
  },
  "kernelspec": {
   "display_name": "Python 3",
   "language": "python",
   "name": "python3"
  },
  "language_info": {
   "codemirror_mode": {
    "name": "ipython",
    "version": 3
   },
   "file_extension": ".py",
   "mimetype": "text/x-python",
   "name": "python",
   "nbconvert_exporter": "python",
   "pygments_lexer": "ipython3",
   "version": "3.5.2"
  },
  "nteract": {
   "version": "0.6.2"
  },
  "widgets": {
   "state": {},
   "version": "1.1.2"
  }
 },
 "nbformat": 4,
 "nbformat_minor": 1
}

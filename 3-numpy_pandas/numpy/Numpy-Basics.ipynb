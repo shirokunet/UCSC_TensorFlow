{
  "cells": [
    {
      "cell_type": "code",
      "source": [
        "# http://people.duke.edu/~ccc14/pcfb/numpympl/NumpyBasics.html\n",
        "# https://docs.scipy.org/doc/numpy-dev/user/quickstart.html\n",
        "# http://www.engr.ucsb.edu/~shell/che210d/numpy.pdf\n",
        "# http://www.labri.fr/perso/nrougier/teaching/numpy/numpy.html\n",
        "# http://www.labri.fr/perso/nrougier/teaching/numpy.100/\n",
        "\n# NUMPY TO MATLAB - https://docs.scipy.org/doc/numpy-dev/user/numpy-for-matlab-users.html"
      ],
      "outputs": [],
      "execution_count": null,
      "metadata": {}
    },
    {
      "cell_type": "code",
      "source": [
        "import numpy as np"
      ],
      "outputs": [],
      "execution_count": 3,
      "metadata": {}
    },
    {
      "cell_type": "markdown",
      "source": [
        "## NDARRAY\n",
        "An ndaray is a n-dimensional array where all items are of the same type (unlike a Python data structure) and consequently use the same amount of space. There are 21 different types of objects (also called dtypes) that can be stored in ndarray. They are\n",
        "* bool_ \n",
        "* byte\n",
        "* short\n",
        "* intc\n",
        "* int_\n",
        "* longlong\n",
        "* intp\n",
        "* ubyte\n",
        "* ushort\n",
        "* uintc\n",
        "* uint\n",
        "* ulonglong\n",
        "* uintp\n",
        "* single\n",
        "* float_\n",
        "* longfloat\n",
        "* csingl\n",
        "* complex_\n",
        "* clongfloat\n",
        "* object_\n",
        "* str_\n",
        "* unicode_\n",
        "* void\n",
        "\n",
        "For some of the dtypes, a _ to differentiate that dtype from the corresponding Python type. Such types are also called as 'enhanced scalars).  They have the same precision as the Python type.\n",
        "\nAll the types except the str_, unicode_ and void are of fixed size. "
      ],
      "metadata": {}
    },
    {
      "cell_type": "code",
      "source": [
        "# Creating a simple ndarray\n",
        "a = np.arange(8) # similar to range(8)\n",
        "print(a, type(a))"
      ],
      "outputs": [
        {
          "output_type": "stream",
          "name": "stdout",
          "text": [
            "[0 1 2 3 4 5 6 7] <class 'numpy.ndarray'>\n"
          ]
        }
      ],
      "execution_count": 5,
      "metadata": {}
    },
    {
      "cell_type": "code",
      "source": [
        "# Indexing\n",
        "print(a[3], type(a[3])) # since there is only one value, its type is the type of each element\n",
        "print(a[2:5], type(a[2:5])) # The slicing results in an ndarray"
      ],
      "outputs": [
        {
          "output_type": "stream",
          "name": "stdout",
          "text": [
            "3 <class 'numpy.int64'>\n",
            "[2 3 4] <class 'numpy.ndarray'>\n"
          ]
        }
      ],
      "execution_count": 6,
      "metadata": {}
    },
    {
      "cell_type": "code",
      "source": [
        "# Universal functions or ufunc\n",
        "# They perform element by element operation on an ndarray.\n",
        "b = np.sin(a)\n",
        "print(b)\n",
        "\n",
        "c = np.add(a, b)\n",
        "print(c)\n",
        "\n",
        "# For a full list of ufunc, visit \n",
        "# http://docs.scipy.org/doc/numpy/reference/ufuncs.html"
      ],
      "outputs": [
        {
          "output_type": "stream",
          "name": "stdout",
          "text": [
            "[ 0.          0.84147098  0.90929743  0.14112001 -0.7568025  -0.95892427\n",
            " -0.2794155   0.6569866 ]\n",
            "[ 0.          1.84147098  2.90929743  3.14112001  3.2431975   4.04107573\n",
            "  5.7205845   7.6569866 ]\n"
          ]
        }
      ],
      "execution_count": 7,
      "metadata": {}
    },
    {
      "cell_type": "code",
      "source": [
        "# In the case of add function, a and b both had same sized vector.\n",
        "# What happens if they are of different sizes as in the example below\n",
        "d = np.add(a, 3)\n",
        "print(d)\n",
        "\n",
        "# The meaning of adding a which is a vector to a scalar 3 is done by \n",
        "# adding each element in a with the value 3. In otherwords, the value 3\n",
        "# was 'broadcast' to each element in a and added."
      ],
      "outputs": [
        {
          "output_type": "stream",
          "name": "stdout",
          "text": [
            "[ 3  4  5  6  7  8  9 10]\n"
          ]
        }
      ],
      "execution_count": 8,
      "metadata": {}
    },
    {
      "cell_type": "code",
      "source": [
        "# NDARRAY attributes\n",
        "\n",
        "print(\"Shape is: \", b.shape) # Size of the matrix\n",
        "print(\"Number of dimensions are: \", b.ndim) # Number of dimensions\n",
        "print(\"Data type: \", b.dtype) # Data type of each element\n",
        "print(\"Itemsize: \", b.itemsize) # Memory occupied by each element\n",
        "print(\"type: \", type(b))  # Type of b\n",
        "print(\"dir: \", dir(b.dtype))"
      ],
      "outputs": [
        {
          "output_type": "stream",
          "name": "stdout",
          "text": [
            "Shape is:  (8,)\n",
            "Number of dimensions are:  1\n",
            "Data type:  float64\n",
            "Itemsize:  8\n",
            "type:  <class 'numpy.ndarray'>\n",
            "dir:  ['__class__', '__delattr__', '__dir__', '__doc__', '__eq__', '__format__', '__ge__', '__getattribute__', '__getitem__', '__gt__', '__hash__', '__init__', '__init_subclass__', '__le__', '__len__', '__lt__', '__mul__', '__ne__', '__new__', '__reduce__', '__reduce_ex__', '__repr__', '__rmul__', '__setattr__', '__setstate__', '__sizeof__', '__str__', '__subclasshook__', 'alignment', 'base', 'byteorder', 'char', 'descr', 'fields', 'flags', 'hasobject', 'isalignedstruct', 'isbuiltin', 'isnative', 'itemsize', 'kind', 'metadata', 'name', 'names', 'newbyteorder', 'num', 'shape', 'str', 'subdtype', 'type']\n"
          ]
        }
      ],
      "execution_count": 9,
      "metadata": {}
    },
    {
      "cell_type": "markdown",
      "source": [
        "### ARRAY CONVERSION"
      ],
      "metadata": {}
    },
    {
      "cell_type": "code",
      "source": [
        "print(b.tolist()) # convert ndarray b to list"
      ],
      "outputs": [
        {
          "output_type": "stream",
          "name": "stdout",
          "text": [
            "[0.0, 0.8414709848078965, 0.9092974268256817, 0.1411200080598672, -0.7568024953079282, -0.9589242746631385, -0.27941549819892586, 0.6569865987187891]\n"
          ]
        }
      ],
      "execution_count": 10,
      "metadata": {}
    },
    {
      "cell_type": "code",
      "source": [
        "# Write the vector b to a csv file with 3 precision\n",
        "b.tofile(file=\"data.csv\", sep=\",\", format=\"%0.3f\")"
      ],
      "outputs": [],
      "execution_count": 11,
      "metadata": {}
    },
    {
      "cell_type": "code",
      "source": [
        "b.dump('data.pickle') # Write to pickle file"
      ],
      "outputs": [],
      "execution_count": 12,
      "metadata": {}
    },
    {
      "cell_type": "code",
      "source": [
        "np.save('b.npy', [a, b])\n",
        "# Read more about npy format at https://docs.scipy.org/doc/numpy/neps/npy-format.html\n",
        "c1, d1 = np.load('b.npy')\n",
        "print(c1, d1)"
      ],
      "outputs": [
        {
          "output_type": "stream",
          "name": "stdout",
          "text": [
            "[ 0.  1.  2.  3.  4.  5.  6.  7.] [ 0.          0.84147098  0.90929743  0.14112001 -0.7568025  -0.95892427\n",
            " -0.2794155   0.6569866 ]\n"
          ]
        }
      ],
      "execution_count": 17,
      "metadata": {
        "collapsed": false,
        "outputHidden": false,
        "inputHidden": false
      }
    },
    {
      "cell_type": "markdown",
      "source": [
        "### ARRAY SHAPE "
      ],
      "metadata": {}
    },
    {
      "cell_type": "code",
      "source": [
        "a = np.arange(8)\n",
        "b = a.reshape((2, 4), order='C') # Change the matrix to size 2x4\n",
        "print(b)"
      ],
      "outputs": [],
      "execution_count": null,
      "metadata": {}
    },
    {
      "cell_type": "code",
      "source": [
        "c = a.resize((4, 2))\n",
        "print(c) # None as resize modifies inplace while reshape creates a new array\n",
        "print(a)"
      ],
      "outputs": [],
      "execution_count": null,
      "metadata": {}
    },
    {
      "cell_type": "code",
      "source": [
        "a = np.arange(8).reshape((2, 4), order='C' )\n",
        "flat_a = a.flatten()\n",
        "print(flat_a) # Convert to 1D vector\n",
        "flat_a[0]= 6\n",
        "print(flat_a)\n",
        "print(a) \n",
        "# Since flat_a is a new copy, any change to flat_a does not affect a"
      ],
      "outputs": [],
      "execution_count": null,
      "metadata": {}
    },
    {
      "cell_type": "code",
      "source": [
        "a = np.arange(8).reshape((2, 4), order='C' )\n",
        "ravel_a = a.ravel() # Convert to 1D vector\n",
        "print(ravel_a)\n",
        "ravel_a[0]= 6\n",
        "print(ravel_a)\n",
        "print(a)\n",
        "# Since ravel_a is NOT a copy, any change to ravel_a affects a"
      ],
      "outputs": [],
      "execution_count": null,
      "metadata": {}
    },
    {
      "cell_type": "code",
      "source": [
        "# Shallow copy\n",
        "d = a\n",
        "a[0][0] = 4\n",
        "print(a)\n",
        "print(d) # Note d and a will have same values even though we modified only a"
      ],
      "outputs": [],
      "execution_count": null,
      "metadata": {}
    },
    {
      "cell_type": "code",
      "source": [
        "# Deep copy\n",
        "d = a.copy()\n",
        "a[0][0] = 3\n",
        "print(a)\n",
        "print(d) # Note d and a will have different values"
      ],
      "outputs": [],
      "execution_count": null,
      "metadata": {}
    },
    {
      "cell_type": "code",
      "source": [
        "# INCLASS ACTIVITY\n",
        "'''\n",
        "A power ball needs a list of 6 numbers. The first 5 numbers have value between 1 and 59.\n",
        "The last number also called power ball number will be between 1 and 35. \n",
        "Write a Python program to create this list with 6 numbers. Modify the code\n",
        "so that it is seeded by the current date. \n",
        "'''\n"
      ],
      "outputs": [],
      "execution_count": null,
      "metadata": {}
    },
    {
      "cell_type": "markdown",
      "source": [
        "## ARRAY MANIPULATION"
      ],
      "metadata": {}
    },
    {
      "cell_type": "code",
      "source": [
        "import numpy as np\n",
        "a = np.random.rand(2, 4)\n",
        "print(a)\n",
        "a.sort() # sort(axis=-1, kind=’quick’, order=None)\n",
        "print(a)"
      ],
      "outputs": [],
      "execution_count": null,
      "metadata": {}
    },
    {
      "cell_type": "code",
      "source": [
        "a = np.random.rand(2, 4)*2\n",
        "a = a.astype(np.int)\n",
        "print(a, a.dtype)\n",
        "print(a.nonzero())"
      ],
      "outputs": [],
      "execution_count": null,
      "metadata": {}
    },
    {
      "cell_type": "markdown",
      "source": [
        "### ARRAY CALCULATIONS"
      ],
      "metadata": {}
    },
    {
      "cell_type": "code",
      "source": [
        "import numpy as np\n",
        "a = np.random.rand(2, 2)*5\n",
        "b = a.astype('int')\n",
        "print(b)\n",
        "print('Any element is {0}'.format(b.any()))\n",
        "print('Sum of all elements is {0}'.format(b.sum()))\n",
        "print('The product of all element is {0}'.format(b.prod()))\n",
        "print('The max of all element is {0}'.format(b.max()))"
      ],
      "outputs": [],
      "execution_count": null,
      "metadata": {}
    },
    {
      "cell_type": "markdown",
      "source": [
        "### ARRAY INDEXING"
      ],
      "metadata": {}
    },
    {
      "cell_type": "code",
      "source": [
        "# Basic slicing\n",
        "import numpy as np\n",
        "a = np.random.rand(10, 10)*5\n",
        "b = a.astype('int')\n",
        "print(b)\n",
        "print('The rows=1 and cols=2 element is {0}'.format(b[1,2])) \n",
        "print('The first col is {0}'.format(b[:,0])) # rows, cols. all rows for cols=0\n",
        "print('The third row is {0}'.format(b[2, :])) # all cols for rows = 2"
      ],
      "outputs": [],
      "execution_count": null,
      "metadata": {}
    },
    {
      "cell_type": "markdown",
      "source": [
        "### ROUTINES"
      ],
      "metadata": {
        "collapsed": true
      }
    },
    {
      "cell_type": "code",
      "source": [
        "# array(object=, dtype=None, copy=True, order=None, subok=False, ndmin=0)\n",
        "# Convert any object to a ndarray. If copy is set to True, then a new copy is made.\n",
        "# Convert a Python list or tuple to numpy array\n",
        "import numpy as np\n",
        "\n",
        "c = np.array((4, 5, 6), dtype=np.float32) # Change this to int and see the output\n",
        "print(c, type(c), c.dtype)\n",
        "\n",
        "# There is another method called 'asarray' which is same as 'array' except\n",
        "# that the copy defaults to False."
      ],
      "outputs": [],
      "execution_count": null,
      "metadata": {}
    },
    {
      "cell_type": "code",
      "source": [
        "# Will create a linear list of values starting from 'start' and ends at 'stop-1'\n",
        "# in steps of 'step'\n",
        "d = np.arange(start=10, stop=20, step=2, dtype=np.float32)\n",
        "print(d)"
      ],
      "outputs": [],
      "execution_count": null,
      "metadata": {}
    },
    {
      "cell_type": "code",
      "source": [
        "d = np.zeros(shape=(3, 4), dtype=np.int64)\n",
        "print(d)\n",
        "print(d.itemsize, d.dtype)"
      ],
      "outputs": [],
      "execution_count": null,
      "metadata": {}
    },
    {
      "cell_type": "code",
      "source": [
        "e = np.ones(shape=(3, 3), dtype=np.int32)\n",
        "print(e)"
      ],
      "outputs": [],
      "execution_count": null,
      "metadata": {}
    },
    {
      "cell_type": "code",
      "source": [
        "f = np.identity(n=3, dtype=np.int32)\n",
        "print(f)"
      ],
      "outputs": [],
      "execution_count": null,
      "metadata": {}
    },
    {
      "cell_type": "code",
      "source": [
        "g = np.random.rand(3, 3)*5\n",
        "print(g)\n",
        "print(np.where(g)) # Returns the x, y coordinates"
      ],
      "outputs": [],
      "execution_count": null,
      "metadata": {}
    },
    {
      "cell_type": "code",
      "source": [
        "m = np.random.rand(100, 100)*100\n",
        "m = m.astype('int')\n",
        "print('The histogram is {0}'.format(np.histogram(m)))\n",
        "# The first array is the frequency and the second array is the bin"
      ],
      "outputs": [],
      "execution_count": null,
      "metadata": {}
    },
    {
      "cell_type": "code",
      "source": [
        "# Create 10 numbers between 1 and 20\n",
        "p = np.linspace(start = 1, stop = 20, num=10)\n",
        "print('The linear space of value is {0}'.format(p))\n",
        "\n",
        "p = np.logspace(start = 0.1, stop = 0.20, num=10)\n",
        "print('The log space of value is {0}'.format(p))"
      ],
      "outputs": [],
      "execution_count": null,
      "metadata": {}
    },
    {
      "cell_type": "markdown",
      "source": [
        "### OPERATIONS"
      ],
      "metadata": {}
    },
    {
      "cell_type": "code",
      "source": [
        "import numpy as np\n",
        "\n",
        "c = np.array((4, 5, 6), dtype=np.float32)\n",
        "d = np.linspace(start=10, stop=13, num=3)\n",
        "print(c)\n",
        "print(d)\n",
        "f = d-c # Subtract matrix\n",
        "print(f, f.dtype)"
      ],
      "outputs": [],
      "execution_count": null,
      "metadata": {}
    },
    {
      "cell_type": "code",
      "source": [
        "f = 10*c \n",
        "# Multiply a matrix with scalar. The matrix e is of dtype=int64 but the final matrix is of dtype=float64\n",
        "print(f, f.dtype)"
      ],
      "outputs": [],
      "execution_count": null,
      "metadata": {}
    },
    {
      "cell_type": "code",
      "source": [
        "h = f > 50 # Compare every element with the value of 0.5\n",
        "print(h)"
      ],
      "outputs": [],
      "execution_count": null,
      "metadata": {}
    },
    {
      "cell_type": "code",
      "source": [
        "# Indexing with boolean arrays\n",
        "k = f > 50\n",
        "print(k)\n",
        "print(f[k]) # Returns values in p that are True in t\n",
        "print(f[f>50]) # This is same as the previous line except that we are not creating a new array t"
      ],
      "outputs": [],
      "execution_count": null,
      "metadata": {}
    },
    {
      "cell_type": "markdown",
      "source": [
        "#### Calculate value of pi using Gregory-Leibniz series\n",
        "$$ 1\\,-\\,{\\frac {1}{3}}\\,+\\,{\\frac {1}{5}}\\,-\\,{\\frac {1}{7}}\\,+\\,{\\frac {1}{9}}\\,-\\,\\cdots \\;=\\;{\\frac {\\pi }{4}}.\\! $$"
      ],
      "metadata": {}
    },
    {
      "cell_type": "code",
      "source": [
        "noofterms = 100000\n",
        "\n",
        "# Create numerator array\n",
        "numerator = np.ones(shape=(1, noofterms))\n",
        "# Change alternate values from +1 to -1\n",
        "numerator[0, 1::2] = -1\n",
        "print(\"numerator is: {0} \".format(numerator))\n",
        "# Denominator = 1, 3, 5, 7 ...\n",
        "\n",
        "# Sum all terms and multiply by 4\n",
        "denominator = np.linspace(1, noofterms*2-1, noofterms)\n",
        "print('denominator is: ', denominator)\n",
        "pival = 4.0*np.sum(numerator/denominator)\n",
        "print('The value of pi is {0}'.format(pival))"
      ],
      "outputs": [],
      "execution_count": null,
      "metadata": {}
    },
    {
      "cell_type": "code",
      "source": [],
      "outputs": [],
      "execution_count": null,
      "metadata": {}
    }
  ],
  "metadata": {
    "kernel_info": {
      "name": "python3"
    },
    "kernelspec": {
      "name": "python3",
      "language": "python",
      "display_name": "Python 3"
    },
    "language_info": {
      "name": "python",
      "version": "3.6.0",
      "mimetype": "text/x-python",
      "codemirror_mode": {
        "name": "ipython",
        "version": 3
      },
      "pygments_lexer": "ipython3",
      "nbconvert_exporter": "python",
      "file_extension": ".py"
    },
    "nteract": {
      "version": "0.7.1"
    },
    "widgets": {
      "state": {},
      "version": "1.1.2"
    }
  },
  "nbformat": 4,
  "nbformat_minor": 1
}
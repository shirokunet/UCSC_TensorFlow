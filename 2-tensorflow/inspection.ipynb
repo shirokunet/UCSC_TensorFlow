{
 "cells": [
  {
   "cell_type": "markdown",
   "metadata": {},
   "source": [
    "# Inspecting tensors\n",
    "\n",
    "The details of the various variables and methods for inspection of a tensor is available at https://www.tensorflow.org/api_docs/python/state_ops/\n",
    "\n",
    "We will discuss a few variables below. The graph to which a given tensor belongs can be obtained using graph variable. \n",
    "\n",
    "The 'op' variable returns the details of the operations in a given tensor. For example in the mainno variable, the op returns the fact that the operation is random_uniform, the output type is int32 and the seed (3457) obtained from the graph.\n",
    "\n",
    "A call to 'op' variable for powerballno shows that the operation is concatenate and that there are two calls to random_uniform function."
   ]
  },
  {
   "cell_type": "code",
   "execution_count": null,
   "metadata": {},
   "outputs": [],
   "source": [
    "import tensorflow as tf\n",
    "tf.set_random_seed(3457)\n",
    "mainno = tf.random_uniform(shape=(5, ), minval=1, maxval=59, dtype=tf.int32)\n",
    "lastno = tf.random_uniform((1, ), minval=1, maxval=35, dtype=tf.int32)\n",
    "powerballno = tf.concat([mainno, lastno, mainno], 0)\n",
    "with tf.Session() as sess1:\n",
    "    print(sess1.run(powerballno))\n",
    "\n",
    "with tf.Session() as sess2:\n",
    "    print(sess2.run(powerballno))\n",
    "    \n",
    "# Properties of a variable \n",
    "print(\"-------- Graph Object --------\")\n",
    "print(powerballno.graph)\n",
    "\n",
    "#print(\"-------- Operations in mainno --------\")\n",
    "#print(mainno.op)\n",
    "\n",
    "#print(\"-------- Operations in powerballno --------\")\n",
    "print(powerballno.op)"
   ]
  },
  {
   "cell_type": "markdown",
   "metadata": {},
   "source": [
    "To get a list of all the properties and variables associated with a given variable, use the dir() function."
   ]
  },
  {
   "cell_type": "code",
   "execution_count": null,
   "metadata": {},
   "outputs": [],
   "source": [
    "print(dir(mainno))"
   ]
  },
  {
   "cell_type": "markdown",
   "metadata": {},
   "source": [
    "As can be seen in the example above, the variable mainno has many \"magic\" methods, the methods that have \\_\\_ (double underscore a.k.a dunder) on either sides. You can find more details about magic methods at https://docs.python.org/3/reference/datamodel.html#special-method-names.  We will demonstrate the use of magic methods using an example.\n",
    "\n",
    "We will create 2 variables var1 and var2 using numpy and convert them to tensors using tf.constant. The variable var1 is of size (1, 3,) and all its values are equal to 5. The variable var2 is also of size (1, 3,) and all its values are equal to 1. The variables are added using three methods, one using a magic method and the second using add function and the third using the operator +. The operations  stored in to variables sumvar_dunder, sumvar_nondunder and sumvar_operator. When a session is started and executed, the three methods yield the same value, a tensor of length 3 containing values of 6. \n",
    "\n",
    "\n",
    "\n",
    "It is important to note the following:\n",
    "1. The three mechanisms produce the same result.\n",
    "2. The use of + operator is 'pythonic' while the use of add or \\_\\_add\\_\\_ is not.\n",
    "3. The use of + operator produces a readable code while the use of add or \\_\\_add\\_\\_ does not.\n",
    "4. The + operator overloads the meaning of addition of tensors using \\_\\_add\\_\\_ method."
   ]
  },
  {
   "cell_type": "code",
   "execution_count": null,
   "metadata": {},
   "outputs": [],
   "source": [
    "import numpy as np\n",
    "\n",
    "var1 = tf.constant(np.ones((1, 3,))*5)\n",
    "var2 = tf.constant(np.ones((1, 3,)))\n",
    "\n",
    "sumvar_dunder = var1.__add__(var2)\n",
    "print(sumvar_dunder, sumvar_dunder.name)\n",
    "\n",
    "sumvar_nondunder = tf.add(var1, var2)\n",
    "print(sumvar_nondunder, sumvar_nondunder.name)\n",
    "\n",
    "sumvar_operator = var1 + var2\n",
    "print(sumvar_operator, sumvar_operator.name)\n",
    "\n",
    "with tf.Session() as sess1:\n",
    "    print(sess1.run(sumvar_dunder))\n",
    "    print(sess1.run(sumvar_nondunder))\n",
    "    print(sess1.run(sumvar_operator)) "
   ]
  }
 ],
 "metadata": {
  "kernelspec": {
   "display_name": "Python 3",
   "language": "python",
   "name": "python3"
  },
  "language_info": {
   "codemirror_mode": {
    "name": "ipython",
    "version": 3
   },
   "file_extension": ".py",
   "mimetype": "text/x-python",
   "name": "python",
   "nbconvert_exporter": "python",
   "pygments_lexer": "ipython3",
   "version": "3.5.2"
  },
  "widgets": {
   "state": {},
   "version": "1.1.2"
  }
 },
 "nbformat": 4,
 "nbformat_minor": 1
}

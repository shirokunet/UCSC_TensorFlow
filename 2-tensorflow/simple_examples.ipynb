{
 "cells": [
  {
   "cell_type": "markdown",
   "metadata": {},
   "source": [
    "# Simple examples"
   ]
  },
  {
   "cell_type": "code",
   "execution_count": 1,
   "metadata": {},
   "outputs": [],
   "source": [
    "import tensorflow as tf\n",
    "import numpy as np"
   ]
  },
  {
   "cell_type": "code",
   "execution_count": 19,
   "metadata": {},
   "outputs": [
    {
     "name": "stdout",
     "output_type": "stream",
     "text": [
      "Tensor(\"random_uniform_22:0\", shape=(5,), dtype=int32) Tensor(\"random_uniform_23:0\", shape=(1,), dtype=int32) Tensor(\"concat_11:0\", shape=(6,), dtype=int32)\n",
      "[56  2 37 34 25  6] <class 'numpy.ndarray'>\n"
     ]
    }
   ],
   "source": [
    "# generate random values \n",
    "# build powerball lottery number generator\n",
    "# first number is between [1, 59]\n",
    "# last number is between [1, 35]\n",
    "# maxval is inclusive\n",
    "mainno = tf.random_uniform(shape=(5, ), minval=1, maxval=59, dtype=tf.int32)\n",
    "lastno = tf.random_uniform((1, ), minval=1, maxval=35, dtype=tf.int32)\n",
    "# concatenate the two tensors along dimension 0\n",
    "powerballno = tf.concat([mainno, lastno], 0)\n",
    "# In the print statement, you will notice that all these variables\n",
    "# are Tensor objects and not the value themselves\n",
    "print(mainno, lastno, powerballno)\n",
    "# Start a session, so that all these variables can be evaluated.\n",
    "with tf.Session() as sess1:\n",
    "    powerballval = sess1.run(powerballno)\n",
    "print(powerballval, type(powerballval))"
   ]
  },
  {
   "cell_type": "markdown",
   "metadata": {},
   "source": [
    "In the code above, the powerballno is evaluated and a set of 6 random values are generated. The output of the run() is a numpy array as seen in the output of the print function."
   ]
  },
  {
   "cell_type": "code",
   "execution_count": 15,
   "metadata": {},
   "outputs": [
    {
     "name": "stdout",
     "output_type": "stream",
     "text": [
      "[53 28 35 35 39]\n",
      "[19]\n",
      "[27 55 33 43 45  5]\n"
     ]
    }
   ],
   "source": [
    "# power ball number generator with more mysteries\n",
    "mainno = tf.random_uniform(shape=(5, ), minval=1, maxval=59, dtype=tf.int32)\n",
    "lastno = tf.random_uniform((1, ), minval=1, maxval=35, dtype=tf.int32)\n",
    "powerballno = tf.concat([mainno, lastno], 0)\n",
    "with tf.Session() as sess1:\n",
    "    print(sess1.run(mainno))\n",
    "    print(sess1.run(lastno))\n",
    "    print(sess1.run(powerballno))"
   ]
  },
  {
   "cell_type": "code",
   "execution_count": 22,
   "metadata": {},
   "outputs": [
    {
     "ename": "ValueError",
     "evalue": "Shape must be rank 1 but is rank 0 for 'concat_14' (op: 'ConcatV2') with input shapes: [5], [], [].",
     "output_type": "error",
     "traceback": [
      "\u001b[0;31m---------------------------------------------------------------------------\u001b[0m",
      "\u001b[0;31mInvalidArgumentError\u001b[0m                      Traceback (most recent call last)",
      "\u001b[0;32m/usr/local/lib/python3.6/dist-packages/tensorflow/python/framework/ops.py\u001b[0m in \u001b[0;36m_create_c_op\u001b[0;34m(graph, node_def, inputs, control_inputs)\u001b[0m\n\u001b[1;32m   1627\u001b[0m   \u001b[0;32mtry\u001b[0m\u001b[0;34m:\u001b[0m\u001b[0;34m\u001b[0m\u001b[0m\n\u001b[0;32m-> 1628\u001b[0;31m     \u001b[0mc_op\u001b[0m \u001b[0;34m=\u001b[0m \u001b[0mc_api\u001b[0m\u001b[0;34m.\u001b[0m\u001b[0mTF_FinishOperation\u001b[0m\u001b[0;34m(\u001b[0m\u001b[0mop_desc\u001b[0m\u001b[0;34m)\u001b[0m\u001b[0;34m\u001b[0m\u001b[0m\n\u001b[0m\u001b[1;32m   1629\u001b[0m   \u001b[0;32mexcept\u001b[0m \u001b[0merrors\u001b[0m\u001b[0;34m.\u001b[0m\u001b[0mInvalidArgumentError\u001b[0m \u001b[0;32mas\u001b[0m \u001b[0me\u001b[0m\u001b[0;34m:\u001b[0m\u001b[0;34m\u001b[0m\u001b[0m\n",
      "\u001b[0;31mInvalidArgumentError\u001b[0m: Shape must be rank 1 but is rank 0 for 'concat_14' (op: 'ConcatV2') with input shapes: [5], [], [].",
      "\nDuring handling of the above exception, another exception occurred:\n",
      "\u001b[0;31mValueError\u001b[0m                                Traceback (most recent call last)",
      "\u001b[0;32m<ipython-input-22-d40bf6f0b52f>\u001b[0m in \u001b[0;36m<module>\u001b[0;34m()\u001b[0m\n\u001b[1;32m      2\u001b[0m \u001b[0mlastno\u001b[0m \u001b[0;34m=\u001b[0m \u001b[0;36m12\u001b[0m\u001b[0;34m\u001b[0m\u001b[0m\n\u001b[1;32m      3\u001b[0m \u001b[0;34m\u001b[0m\u001b[0m\n\u001b[0;32m----> 4\u001b[0;31m \u001b[0mpowerballno\u001b[0m \u001b[0;34m=\u001b[0m \u001b[0mtf\u001b[0m\u001b[0;34m.\u001b[0m\u001b[0mconcat\u001b[0m\u001b[0;34m(\u001b[0m\u001b[0;34m[\u001b[0m\u001b[0mmainno\u001b[0m\u001b[0;34m,\u001b[0m \u001b[0mlastno\u001b[0m\u001b[0;34m]\u001b[0m\u001b[0;34m,\u001b[0m \u001b[0;36m0\u001b[0m\u001b[0;34m)\u001b[0m\u001b[0;34m\u001b[0m\u001b[0m\n\u001b[0m\u001b[1;32m      5\u001b[0m \u001b[0;32mwith\u001b[0m \u001b[0mtf\u001b[0m\u001b[0;34m.\u001b[0m\u001b[0mSession\u001b[0m\u001b[0;34m(\u001b[0m\u001b[0;34m)\u001b[0m \u001b[0;32mas\u001b[0m \u001b[0msess1\u001b[0m\u001b[0;34m:\u001b[0m\u001b[0;34m\u001b[0m\u001b[0m\n\u001b[1;32m      6\u001b[0m     \u001b[0mprint\u001b[0m\u001b[0;34m(\u001b[0m\u001b[0msess1\u001b[0m\u001b[0;34m.\u001b[0m\u001b[0mrun\u001b[0m\u001b[0;34m(\u001b[0m\u001b[0mmainno\u001b[0m\u001b[0;34m)\u001b[0m\u001b[0;34m)\u001b[0m\u001b[0;34m\u001b[0m\u001b[0m\n",
      "\u001b[0;32m/usr/local/lib/python3.6/dist-packages/tensorflow/python/ops/array_ops.py\u001b[0m in \u001b[0;36mconcat\u001b[0;34m(values, axis, name)\u001b[0m\n\u001b[1;32m   1122\u001b[0m               tensor_shape.scalar())\n\u001b[1;32m   1123\u001b[0m       \u001b[0;32mreturn\u001b[0m \u001b[0midentity\u001b[0m\u001b[0;34m(\u001b[0m\u001b[0mvalues\u001b[0m\u001b[0;34m[\u001b[0m\u001b[0;36m0\u001b[0m\u001b[0;34m]\u001b[0m\u001b[0;34m,\u001b[0m \u001b[0mname\u001b[0m\u001b[0;34m=\u001b[0m\u001b[0mscope\u001b[0m\u001b[0;34m)\u001b[0m\u001b[0;34m\u001b[0m\u001b[0m\n\u001b[0;32m-> 1124\u001b[0;31m   \u001b[0;32mreturn\u001b[0m \u001b[0mgen_array_ops\u001b[0m\u001b[0;34m.\u001b[0m\u001b[0mconcat_v2\u001b[0m\u001b[0;34m(\u001b[0m\u001b[0mvalues\u001b[0m\u001b[0;34m=\u001b[0m\u001b[0mvalues\u001b[0m\u001b[0;34m,\u001b[0m \u001b[0maxis\u001b[0m\u001b[0;34m=\u001b[0m\u001b[0maxis\u001b[0m\u001b[0;34m,\u001b[0m \u001b[0mname\u001b[0m\u001b[0;34m=\u001b[0m\u001b[0mname\u001b[0m\u001b[0;34m)\u001b[0m\u001b[0;34m\u001b[0m\u001b[0m\n\u001b[0m\u001b[1;32m   1125\u001b[0m \u001b[0;34m\u001b[0m\u001b[0m\n\u001b[1;32m   1126\u001b[0m \u001b[0;34m\u001b[0m\u001b[0m\n",
      "\u001b[0;32m/usr/local/lib/python3.6/dist-packages/tensorflow/python/ops/gen_array_ops.py\u001b[0m in \u001b[0;36mconcat_v2\u001b[0;34m(values, axis, name)\u001b[0m\n\u001b[1;32m   1031\u001b[0m     \u001b[0m_attr_N\u001b[0m \u001b[0;34m=\u001b[0m \u001b[0mlen\u001b[0m\u001b[0;34m(\u001b[0m\u001b[0mvalues\u001b[0m\u001b[0;34m)\u001b[0m\u001b[0;34m\u001b[0m\u001b[0m\n\u001b[1;32m   1032\u001b[0m     _, _, _op = _op_def_lib._apply_op_helper(\n\u001b[0;32m-> 1033\u001b[0;31m         \"ConcatV2\", values=values, axis=axis, name=name)\n\u001b[0m\u001b[1;32m   1034\u001b[0m     \u001b[0m_result\u001b[0m \u001b[0;34m=\u001b[0m \u001b[0m_op\u001b[0m\u001b[0;34m.\u001b[0m\u001b[0moutputs\u001b[0m\u001b[0;34m[\u001b[0m\u001b[0;34m:\u001b[0m\u001b[0;34m]\u001b[0m\u001b[0;34m\u001b[0m\u001b[0m\n\u001b[1;32m   1035\u001b[0m     \u001b[0m_inputs_flat\u001b[0m \u001b[0;34m=\u001b[0m \u001b[0m_op\u001b[0m\u001b[0;34m.\u001b[0m\u001b[0minputs\u001b[0m\u001b[0;34m\u001b[0m\u001b[0m\n",
      "\u001b[0;32m/usr/local/lib/python3.6/dist-packages/tensorflow/python/framework/op_def_library.py\u001b[0m in \u001b[0;36m_apply_op_helper\u001b[0;34m(self, op_type_name, name, **keywords)\u001b[0m\n\u001b[1;32m    785\u001b[0m         op = g.create_op(op_type_name, inputs, output_types, name=scope,\n\u001b[1;32m    786\u001b[0m                          \u001b[0minput_types\u001b[0m\u001b[0;34m=\u001b[0m\u001b[0minput_types\u001b[0m\u001b[0;34m,\u001b[0m \u001b[0mattrs\u001b[0m\u001b[0;34m=\u001b[0m\u001b[0mattr_protos\u001b[0m\u001b[0;34m,\u001b[0m\u001b[0;34m\u001b[0m\u001b[0m\n\u001b[0;32m--> 787\u001b[0;31m                          op_def=op_def)\n\u001b[0m\u001b[1;32m    788\u001b[0m       \u001b[0;32mreturn\u001b[0m \u001b[0moutput_structure\u001b[0m\u001b[0;34m,\u001b[0m \u001b[0mop_def\u001b[0m\u001b[0;34m.\u001b[0m\u001b[0mis_stateful\u001b[0m\u001b[0;34m,\u001b[0m \u001b[0mop\u001b[0m\u001b[0;34m\u001b[0m\u001b[0m\n\u001b[1;32m    789\u001b[0m \u001b[0;34m\u001b[0m\u001b[0m\n",
      "\u001b[0;32m/usr/local/lib/python3.6/dist-packages/tensorflow/python/util/deprecation.py\u001b[0m in \u001b[0;36mnew_func\u001b[0;34m(*args, **kwargs)\u001b[0m\n\u001b[1;32m    486\u001b[0m                 \u001b[0;34m'in a future version'\u001b[0m \u001b[0;32mif\u001b[0m \u001b[0mdate\u001b[0m \u001b[0;32mis\u001b[0m \u001b[0;32mNone\u001b[0m \u001b[0;32melse\u001b[0m \u001b[0;34m(\u001b[0m\u001b[0;34m'after %s'\u001b[0m \u001b[0;34m%\u001b[0m \u001b[0mdate\u001b[0m\u001b[0;34m)\u001b[0m\u001b[0;34m,\u001b[0m\u001b[0;34m\u001b[0m\u001b[0m\n\u001b[1;32m    487\u001b[0m                 instructions)\n\u001b[0;32m--> 488\u001b[0;31m       \u001b[0;32mreturn\u001b[0m \u001b[0mfunc\u001b[0m\u001b[0;34m(\u001b[0m\u001b[0;34m*\u001b[0m\u001b[0margs\u001b[0m\u001b[0;34m,\u001b[0m \u001b[0;34m**\u001b[0m\u001b[0mkwargs\u001b[0m\u001b[0;34m)\u001b[0m\u001b[0;34m\u001b[0m\u001b[0m\n\u001b[0m\u001b[1;32m    489\u001b[0m     return tf_decorator.make_decorator(func, new_func, 'deprecated',\n\u001b[1;32m    490\u001b[0m                                        _add_deprecated_arg_notice_to_docstring(\n",
      "\u001b[0;32m/usr/local/lib/python3.6/dist-packages/tensorflow/python/framework/ops.py\u001b[0m in \u001b[0;36mcreate_op\u001b[0;34m(***failed resolving arguments***)\u001b[0m\n\u001b[1;32m   3272\u001b[0m           \u001b[0minput_types\u001b[0m\u001b[0;34m=\u001b[0m\u001b[0minput_types\u001b[0m\u001b[0;34m,\u001b[0m\u001b[0;34m\u001b[0m\u001b[0m\n\u001b[1;32m   3273\u001b[0m           \u001b[0moriginal_op\u001b[0m\u001b[0;34m=\u001b[0m\u001b[0mself\u001b[0m\u001b[0;34m.\u001b[0m\u001b[0m_default_original_op\u001b[0m\u001b[0;34m,\u001b[0m\u001b[0;34m\u001b[0m\u001b[0m\n\u001b[0;32m-> 3274\u001b[0;31m           op_def=op_def)\n\u001b[0m\u001b[1;32m   3275\u001b[0m       \u001b[0mself\u001b[0m\u001b[0;34m.\u001b[0m\u001b[0m_create_op_helper\u001b[0m\u001b[0;34m(\u001b[0m\u001b[0mret\u001b[0m\u001b[0;34m,\u001b[0m \u001b[0mcompute_device\u001b[0m\u001b[0;34m=\u001b[0m\u001b[0mcompute_device\u001b[0m\u001b[0;34m)\u001b[0m\u001b[0;34m\u001b[0m\u001b[0m\n\u001b[1;32m   3276\u001b[0m     \u001b[0;32mreturn\u001b[0m \u001b[0mret\u001b[0m\u001b[0;34m\u001b[0m\u001b[0m\n",
      "\u001b[0;32m/usr/local/lib/python3.6/dist-packages/tensorflow/python/framework/ops.py\u001b[0m in \u001b[0;36m__init__\u001b[0;34m(self, node_def, g, inputs, output_types, control_inputs, input_types, original_op, op_def)\u001b[0m\n\u001b[1;32m   1790\u001b[0m           op_def, inputs, node_def.attr)\n\u001b[1;32m   1791\u001b[0m       self._c_op = _create_c_op(self._graph, node_def, grouped_inputs,\n\u001b[0;32m-> 1792\u001b[0;31m                                 control_input_ops)\n\u001b[0m\u001b[1;32m   1793\u001b[0m \u001b[0;34m\u001b[0m\u001b[0m\n\u001b[1;32m   1794\u001b[0m     \u001b[0;31m# Initialize self._outputs.\u001b[0m\u001b[0;34m\u001b[0m\u001b[0;34m\u001b[0m\u001b[0m\n",
      "\u001b[0;32m/usr/local/lib/python3.6/dist-packages/tensorflow/python/framework/ops.py\u001b[0m in \u001b[0;36m_create_c_op\u001b[0;34m(graph, node_def, inputs, control_inputs)\u001b[0m\n\u001b[1;32m   1629\u001b[0m   \u001b[0;32mexcept\u001b[0m \u001b[0merrors\u001b[0m\u001b[0;34m.\u001b[0m\u001b[0mInvalidArgumentError\u001b[0m \u001b[0;32mas\u001b[0m \u001b[0me\u001b[0m\u001b[0;34m:\u001b[0m\u001b[0;34m\u001b[0m\u001b[0m\n\u001b[1;32m   1630\u001b[0m     \u001b[0;31m# Convert to ValueError for backwards compatibility.\u001b[0m\u001b[0;34m\u001b[0m\u001b[0;34m\u001b[0m\u001b[0m\n\u001b[0;32m-> 1631\u001b[0;31m     \u001b[0;32mraise\u001b[0m \u001b[0mValueError\u001b[0m\u001b[0;34m(\u001b[0m\u001b[0mstr\u001b[0m\u001b[0;34m(\u001b[0m\u001b[0me\u001b[0m\u001b[0;34m)\u001b[0m\u001b[0;34m)\u001b[0m\u001b[0;34m\u001b[0m\u001b[0m\n\u001b[0m\u001b[1;32m   1632\u001b[0m \u001b[0;34m\u001b[0m\u001b[0m\n\u001b[1;32m   1633\u001b[0m   \u001b[0;32mreturn\u001b[0m \u001b[0mc_op\u001b[0m\u001b[0;34m\u001b[0m\u001b[0m\n",
      "\u001b[0;31mValueError\u001b[0m: Shape must be rank 1 but is rank 0 for 'concat_14' (op: 'ConcatV2') with input shapes: [5], [], []."
     ]
    }
   ],
   "source": [
    "mainno = [1, 2, 4, 5, 6]\n",
    "lastno = 12\n",
    "\n",
    "powerballno = tf.concat([mainno, lastno], 0)\n",
    "with tf.Session() as sess1:\n",
    "    print(sess1.run(mainno))\n",
    "    print(sess1.run(lastno))\n",
    "    print(sess1.run(powerballno))"
   ]
  },
  {
   "cell_type": "code",
   "execution_count": 17,
   "metadata": {},
   "outputs": [
    {
     "name": "stdout",
     "output_type": "stream",
     "text": [
      "[53 28 35 35 39]\n",
      "[19]\n",
      "[27 55 33 43 45  5]\n"
     ]
    }
   ],
   "source": [
    "with tf.Session() as sess1:\n",
    "    print(sess1.run(mainno))\n",
    "    print(sess1.run(lastno))\n",
    "    print(sess1.run(powerballno))"
   ]
  },
  {
   "cell_type": "markdown",
   "metadata": {},
   "source": [
    "If you notice the output, the first run call evaluates the tensor mainno and returns a tensor of length 5 filled with random values. The secondcall returns a tensor of length 1 filled with a random value. \n",
    "\n",
    "You would imagine that the output of last run statement would contain the values of first run and the second run call. However, it is very different. The reason is in Tensorflow, the functions like tf.random_uniform, tf.concat etc. are evaluated only at the call to run(). So, when the last run is called, the tf.concat function is evaluated. The tf.concat function (or ops) is in turn built with two other ops calls namely the two tf.random_uniform ops used for mainno and lastno.   \n",
    "\n",
    "Thus, in the above code, mainno and lastno ops are called twice, once for the first and second run function calls and then again by the last run function call.\n",
    "\n",
    "If the above code is run multiple times, it will generate different patterns of random numbers. What if you want tensorflow to generate the same random pattern."
   ]
  },
  {
   "cell_type": "code",
   "execution_count": 4,
   "metadata": {},
   "outputs": [
    {
     "name": "stdout",
     "output_type": "stream",
     "text": [
      "[14 20 56 19 44 26]\n",
      "[14 20 56 19 44 26]\n"
     ]
    }
   ],
   "source": [
    "# power ball number generator with op-level seed\n",
    "mainno = tf.random_uniform(shape=(5, ), minval=1, maxval=59, \\\n",
    "                           dtype=tf.int32, seed=1)\n",
    "lastno = tf.random_uniform((1, ), minval=1, maxval=35, \\\n",
    "                           dtype=tf.int32, seed=1)\n",
    "powerballno = tf.concat([mainno, lastno], 0)\n",
    "with tf.Session() as sess1:\n",
    "    print(sess1.run(powerballno))\n",
    "    \n",
    "with tf.Session() as sess2:\n",
    "    print(sess2.run(powerballno))"
   ]
  },
  {
   "cell_type": "markdown",
   "metadata": {},
   "source": [
    "By specifying a constant seed, a random pattern of numbers are generated and at every run, the pattern will remain the same irrespective of the session. This is an example of op-level seed. This method is useful if you need to generate the same repeatable sequence for an op across sessions.\n",
    "\n",
    "If there are many operations, it will be inconvenient to provide seed for each one separately. You can instead choose to provide a graph level seed using tf.set_random_seed. This method is useful if you need to generate random numbers created by all ops be repeatable across sessions in the same graph execution."
   ]
  },
  {
   "cell_type": "code",
   "execution_count": 5,
   "metadata": {},
   "outputs": [
    {
     "name": "stdout",
     "output_type": "stream",
     "text": [
      "[44 41 10 19 37 12]\n",
      "[44 41 10 19 37 12]\n"
     ]
    }
   ],
   "source": [
    "# Alternate seeding mechanism by seeding the graph\n",
    "tf.set_random_seed(3457)\n",
    "mainno = tf.random_uniform(shape=(5, ), minval=1, maxval=59, dtype=tf.int32)\n",
    "lastno = tf.random_uniform((1, ), minval=1, maxval=35, dtype=tf.int32)\n",
    "powerballno = tf.concat([mainno, lastno], 0)\n",
    "with tf.Session() as sess1:\n",
    "    print(sess1.run(powerballno))\n",
    "\n",
    "with tf.Session() as sess2:\n",
    "    print(sess2.run(powerballno))"
   ]
  },
  {
   "cell_type": "markdown",
   "metadata": {},
   "source": [
    "In the example above, the two sessions: sess1 and sess2 produced the same set of random numbers. However, with each run of the code, the number generated are different for every run. "
   ]
  },
  {
   "cell_type": "markdown",
   "metadata": {},
   "source": [
    "#### Obtain the value of pi using Gregory-Madhava-Leibiniz series\n",
    "Gregory-Madhava-Leibiniz series \n",
    "\n",
    "![Gregory-Madhava-Leibiniz series](gml.png)"
   ]
  },
  {
   "cell_type": "code",
   "execution_count": 6,
   "metadata": {},
   "outputs": [
    {
     "name": "stdout",
     "output_type": "stream",
     "text": [
      "(10000000,)\n",
      "Tensor(\"Const:0\", shape=(10000000,), dtype=float64)\n",
      "Tensor(\"Sum:0\", shape=(), dtype=float64)\n",
      "3.14159258716\n"
     ]
    }
   ],
   "source": [
    "# find value of pi using tensorflow\n",
    "n = 10000000\n",
    "# Create an empty numpy array\n",
    "numerator_np = np.ones((n,), np.float64)\n",
    "# Change the alternate values to -1\n",
    "numerator_np[1::2] = -1.0\n",
    "print(numerator_np.shape)\n",
    "# Convert numpy array to tensor\n",
    "numerator = tf.constant(numerator_np)\n",
    "print(numerator)\n",
    "# Create denominator with values 1, 3, 5, ... up to 2n\n",
    "denominator = tf.linspace(1.0, 2.0*n, n)\n",
    "# Linspace is creating a 32-bit float. converting it to 64-bit.\n",
    "denominator = tf.cast(denominator, tf.float64)\n",
    "pival = tf.reduce_sum(tf.div(numerator, denominator))\n",
    "print(pival)\n",
    "sess = tf.InteractiveSession()\n",
    "# A tensor returned by Session.run or eval is a NumPy array.\n",
    "pival_out = pival.eval()\n",
    "sess.close()\n",
    "print(4.0*pival_out)"
   ]
  },
  {
   "cell_type": "code",
   "execution_count": 7,
   "metadata": {},
   "outputs": [
    {
     "data": {
      "text/plain": [
       "'\\nIn-class activity: If T = [[121, 99, 145], [45, 119, 225], [235, 170, 723]]\\nFind\\n1) the minimum value in T and print it\\n2) the maximum value in T and print it\\n'"
      ]
     },
     "execution_count": 7,
     "metadata": {},
     "output_type": "execute_result"
    }
   ],
   "source": [
    "'''\n",
    "In-class activity: If T = [[121, 99, 145], [45, 119, 225], [235, 170, 723]]\n",
    "Find\n",
    "1) the minimum value in T and print it\n",
    "2) the maximum value in T and print it\n",
    "'''"
   ]
  },
  {
   "cell_type": "code",
   "execution_count": 8,
   "metadata": {},
   "outputs": [
    {
     "data": {
      "text/plain": [
       "'\\nIn-class activity: If T = [[121, 99, 145], [45, 119, 0], [235, 170, 723]]. Let eps = 0.001. \\nFind\\n1) add eps to every element in T\\n2) compute the log of the tensor that is obtained in 1).\\n'"
      ]
     },
     "execution_count": 8,
     "metadata": {},
     "output_type": "execute_result"
    }
   ],
   "source": [
    "'''\n",
    "In-class activity: If T = [[121, 99, 145], [45, 119, 0], [235, 170, 723]]. Let eps = 0.001. \n",
    "Find\n",
    "1) add eps to every element in T\n",
    "2) compute the log of the tensor that is obtained in 1).\n",
    "'''"
   ]
  },
  {
   "cell_type": "code",
   "execution_count": 9,
   "metadata": {},
   "outputs": [
    {
     "name": "stdout",
     "output_type": "stream",
     "text": [
      "(300, 352)\n"
     ]
    },
    {
     "ename": "NameError",
     "evalue": "name 'scaledlogtransformed' is not defined",
     "output_type": "error",
     "traceback": [
      "\u001b[0;31m---------------------------------------------------------------------------\u001b[0m",
      "\u001b[0;31mNameError\u001b[0m                                 Traceback (most recent call last)",
      "\u001b[0;32m<ipython-input-9-c219923cdb57>\u001b[0m in \u001b[0;36m<module>\u001b[0;34m()\u001b[0m\n\u001b[1;32m     23\u001b[0m '''\n\u001b[1;32m     24\u001b[0m \u001b[0;34m\u001b[0m\u001b[0m\n\u001b[0;32m---> 25\u001b[0;31m \u001b[0mprint\u001b[0m\u001b[0;34m(\u001b[0m\u001b[0mscaledlogtransformed\u001b[0m\u001b[0;34m)\u001b[0m\u001b[0;34m\u001b[0m\u001b[0m\n\u001b[0m\u001b[1;32m     26\u001b[0m \u001b[0;34m\u001b[0m\u001b[0m\n\u001b[1;32m     27\u001b[0m \u001b[0;32mwith\u001b[0m \u001b[0mtf\u001b[0m\u001b[0;34m.\u001b[0m\u001b[0mSession\u001b[0m\u001b[0;34m(\u001b[0m\u001b[0;34m)\u001b[0m \u001b[0;32mas\u001b[0m \u001b[0msess1\u001b[0m\u001b[0;34m:\u001b[0m\u001b[0;34m\u001b[0m\u001b[0m\n",
      "\u001b[0;31mNameError\u001b[0m: name 'scaledlogtransformed' is not defined"
     ]
    }
   ],
   "source": [
    "'''\n",
    "In-class activity\n",
    "'''\n",
    "import cv2\n",
    "import tensorflow as tf\n",
    "\n",
    "logoimg = cv2.imread('tensorflow_logo_gray.png',0)\n",
    "print(logoimg.shape)\n",
    "\n",
    "maxpixelvalue = tf.constant(255, dtype=tf.float32)\n",
    "img = tf.placeholder(tf.float32, shape=None)\n",
    "eps = tf.constant(1e-5, dtype=tf.float32)\n",
    "\n",
    "'''\n",
    "1. Apply log transformation to the placeholder image, img. Make sure to add eps to it, so that we do not calculate log(0)\n",
    "\n",
    "2. Calculate the maximum value in the tensor from the previous step across all dimensions\n",
    "\n",
    "3. Calculate the minimum value in the tensor from the previous step across all dimensions\n",
    "\n",
    "4. Scale the tensor, so that the resultant tensor can only have values from 0 to 255. Use the formula \n",
    "maxpixelvalue*(logval-min)/(max-min)\n",
    "'''\n",
    "\n",
    "print(scaledlogtransformed)\n",
    "\n",
    "with tf.Session() as sess1:\n",
    "    scaledimg = sess1.run(scaledlogtransformed, feed_dict={img: logoimg})\n",
    "    \n",
    "cv2.imwrite('logoimage.png', scaledimg)"
   ]
  }
 ],
 "metadata": {
  "anaconda-cloud": {},
  "kernelspec": {
   "display_name": "Python 3",
   "language": "python",
   "name": "python3"
  },
  "language_info": {
   "codemirror_mode": {
    "name": "ipython",
    "version": 3
   },
   "file_extension": ".py",
   "mimetype": "text/x-python",
   "name": "python",
   "nbconvert_exporter": "python",
   "pygments_lexer": "ipython3",
   "version": "3.6.6"
  },
  "widgets": {
   "state": {},
   "version": "1.1.2"
  }
 },
 "nbformat": 4,
 "nbformat_minor": 1
}
